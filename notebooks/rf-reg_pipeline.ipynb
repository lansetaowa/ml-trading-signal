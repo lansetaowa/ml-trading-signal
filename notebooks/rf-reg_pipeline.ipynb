{
 "cells": [
  {
   "cell_type": "markdown",
   "id": "cb281943",
   "metadata": {},
   "source": [
    "### Import & Settings"
   ]
  },
  {
   "cell_type": "code",
   "execution_count": 1,
   "id": "4ee6dd4e",
   "metadata": {},
   "outputs": [],
   "source": [
    "import warnings\n",
    "warnings.filterwarnings('ignore')\n",
    "\n",
    "import pandas as pd\n",
    "import matplotlib.pyplot as plt"
   ]
  },
  {
   "cell_type": "code",
   "execution_count": 2,
   "id": "9005b12c",
   "metadata": {},
   "outputs": [],
   "source": [
    "import sys\n",
    "from pathlib import Path\n",
    "project_dir = Path().resolve().parent\n",
    "sys.path.append(str(project_dir))"
   ]
  },
  {
   "cell_type": "code",
   "execution_count": 3,
   "id": "dcd57e6b",
   "metadata": {},
   "outputs": [],
   "source": [
    "from pipeline import generate_signals, prepare_feature_data, train_and_predict, ensure_db_initialized\n",
    "from data.db_utils import get_connection\n",
    "\n",
    "from config import signal_config, target, tscv"
   ]
  },
  {
   "cell_type": "markdown",
   "id": "99bff620",
   "metadata": {},
   "source": [
    "### Load data"
   ]
  },
  {
   "cell_type": "code",
   "execution_count": 5,
   "id": "fc3f8be4",
   "metadata": {},
   "outputs": [],
   "source": [
    "DB_PATH = '../data/crypto_data.db'\n",
    "conn = get_connection(DB_PATH)\n",
    "\n",
    "start_date = '2025-08-01'"
   ]
  },
  {
   "cell_type": "code",
   "execution_count": 6,
   "id": "5e85ae2e",
   "metadata": {},
   "outputs": [],
   "source": [
    "price_query = f\"\"\"\n",
    "SELECT * \n",
    "from kline \n",
    "where datetime >= '{start_date}' and symbol = '{target}'\n",
    "\"\"\"\n",
    "\n",
    "pred_query = f\"\"\"\n",
    "select symbol, datetime, actuals, predicted \n",
    "from signals\n",
    "where datetime >= '{start_date}' and symbol = '{target}'\n",
    "\"\"\""
   ]
  },
  {
   "cell_type": "code",
   "execution_count": 9,
   "id": "9653e276",
   "metadata": {},
   "outputs": [],
   "source": [
    "price_df = pd.read_sql_query(\n",
    "        price_query,\n",
    "        conn,\n",
    "        parse_dates=['datetime']\n",
    "    ).sort_values('datetime').set_index(['symbol', 'datetime'])\n",
    "\n",
    "pred_df = pd.read_sql_query(\n",
    "        pred_query,\n",
    "        conn,\n",
    "        parse_dates=['datetime']\n",
    "    ).sort_values('datetime').set_index('datetime')"
   ]
  },
  {
   "cell_type": "markdown",
   "id": "2bcebabd",
   "metadata": {},
   "source": [
    "### Fit predict"
   ]
  },
  {
   "cell_type": "code",
   "execution_count": 6,
   "id": "c65b9dfb",
   "metadata": {},
   "outputs": [],
   "source": [
    "from datetime import datetime, timedelta\n",
    "START_DELTA = timedelta(days=45)\n",
    "model_start_date = (datetime.utcnow() - START_DELTA).strftime('%Y-%m-%d %H:%M:%S')"
   ]
  },
  {
   "cell_type": "code",
   "execution_count": 7,
   "id": "ed9624f8",
   "metadata": {},
   "outputs": [],
   "source": [
    "DB_PATH = '../data/crypto_data.db'\n",
    "conn = get_connection(DB_PATH)"
   ]
  },
  {
   "cell_type": "code",
   "execution_count": 8,
   "id": "1750af78",
   "metadata": {},
   "outputs": [],
   "source": [
    "df_processed, price_all = prepare_feature_data(conn=conn, target=target, model_start_date=model_start_date)"
   ]
  },
  {
   "cell_type": "code",
   "execution_count": 9,
   "id": "47cdfa36",
   "metadata": {},
   "outputs": [],
   "source": [
    "pred_df = train_and_predict(df_processed, cv = tscv)"
   ]
  },
  {
   "cell_type": "markdown",
   "id": "5afbcef2",
   "metadata": {},
   "source": [
    "### Generate signals"
   ]
  },
  {
   "cell_type": "code",
   "execution_count": 11,
   "id": "e6f56ba7",
   "metadata": {},
   "outputs": [],
   "source": [
    "signals_df = generate_signals(pred_df=pred_df, price_all=price_all, target=target)"
   ]
  },
  {
   "cell_type": "code",
   "execution_count": 12,
   "id": "2b27d83a",
   "metadata": {},
   "outputs": [
    {
     "data": {
      "application/vnd.microsoft.datawrangler.viewer.v0+json": {
       "columns": [
        {
         "name": "index",
         "rawType": "int64",
         "type": "integer"
        },
        {
         "name": "symbol",
         "rawType": "object",
         "type": "string"
        },
        {
         "name": "datetime",
         "rawType": "datetime64[ns]",
         "type": "datetime"
        },
        {
         "name": "actuals",
         "rawType": "float64",
         "type": "float"
        },
        {
         "name": "predicted",
         "rawType": "float64",
         "type": "float"
        },
        {
         "name": "zscore",
         "rawType": "float64",
         "type": "float"
        },
        {
         "name": "raw_signal",
         "rawType": "int64",
         "type": "integer"
        },
        {
         "name": "vol_filter",
         "rawType": "bool",
         "type": "boolean"
        },
        {
         "name": "filtered_signal",
         "rawType": "int64",
         "type": "integer"
        },
        {
         "name": "position",
         "rawType": "int64",
         "type": "integer"
        },
        {
         "name": "signal_reversal",
         "rawType": "int64",
         "type": "integer"
        },
        {
         "name": "final_signal",
         "rawType": "int64",
         "type": "integer"
        },
        {
         "name": "model_name",
         "rawType": "object",
         "type": "string"
        },
        {
         "name": "strategy_name",
         "rawType": "object",
         "type": "string"
        }
       ],
       "ref": "0e8b5003-d829-4256-a233-aeb5a3654d9d",
       "rows": [
        [
         "91",
         "ETHUSDT",
         "2025-08-13 20:00:00",
         "0.000758863654670483",
         "-0.0004453727446603074",
         "-1.3789570981607173",
         "-1",
         "True",
         "-1",
         "-1",
         "0",
         "0",
         "rf-reg",
         "zscore_atr_v1"
        ],
        [
         "92",
         "ETHUSDT",
         "2025-08-13 21:00:00",
         "0.0027853324183040318",
         "0.000840285223205306",
         "0.8978033038363467",
         "0",
         "True",
         "0",
         "-1",
         "0",
         "0",
         "rf-reg",
         "zscore_atr_v1"
        ],
        [
         "93",
         "ETHUSDT",
         "2025-08-13 22:00:00",
         "0.0031662480910628066",
         "0.0010548749422012243",
         "1.17896256901749",
         "1",
         "True",
         "1",
         "1",
         "1",
         "1",
         "rf-reg",
         "zscore_atr_v1"
        ],
        [
         "94",
         "ETHUSDT",
         "2025-08-13 23:00:00",
         "-0.006912597645968854",
         "0.0014150016423858905",
         "1.6590744304924891",
         "1",
         "True",
         "1",
         "1",
         "0",
         "0",
         "rf-reg",
         "zscore_atr_v1"
        ],
        [
         "95",
         "ETHUSDT",
         "2025-08-14 00:00:00",
         "0.004297705699389587",
         "0.00020038456820348143",
         "-0.32645726510310236",
         "0",
         "True",
         "0",
         "1",
         "0",
         "0",
         "rf-reg",
         "zscore_atr_v1"
        ]
       ],
       "shape": {
        "columns": 13,
        "rows": 5
       }
      },
      "text/html": [
       "<div>\n",
       "<style scoped>\n",
       "    .dataframe tbody tr th:only-of-type {\n",
       "        vertical-align: middle;\n",
       "    }\n",
       "\n",
       "    .dataframe tbody tr th {\n",
       "        vertical-align: top;\n",
       "    }\n",
       "\n",
       "    .dataframe thead th {\n",
       "        text-align: right;\n",
       "    }\n",
       "</style>\n",
       "<table border=\"1\" class=\"dataframe\">\n",
       "  <thead>\n",
       "    <tr style=\"text-align: right;\">\n",
       "      <th></th>\n",
       "      <th>symbol</th>\n",
       "      <th>datetime</th>\n",
       "      <th>actuals</th>\n",
       "      <th>predicted</th>\n",
       "      <th>zscore</th>\n",
       "      <th>raw_signal</th>\n",
       "      <th>vol_filter</th>\n",
       "      <th>filtered_signal</th>\n",
       "      <th>position</th>\n",
       "      <th>signal_reversal</th>\n",
       "      <th>final_signal</th>\n",
       "      <th>model_name</th>\n",
       "      <th>strategy_name</th>\n",
       "    </tr>\n",
       "  </thead>\n",
       "  <tbody>\n",
       "    <tr>\n",
       "      <th>91</th>\n",
       "      <td>ETHUSDT</td>\n",
       "      <td>2025-08-13 20:00:00</td>\n",
       "      <td>0.000759</td>\n",
       "      <td>-0.000445</td>\n",
       "      <td>-1.378957</td>\n",
       "      <td>-1</td>\n",
       "      <td>True</td>\n",
       "      <td>-1</td>\n",
       "      <td>-1</td>\n",
       "      <td>0</td>\n",
       "      <td>0</td>\n",
       "      <td>rf-reg</td>\n",
       "      <td>zscore_atr_v1</td>\n",
       "    </tr>\n",
       "    <tr>\n",
       "      <th>92</th>\n",
       "      <td>ETHUSDT</td>\n",
       "      <td>2025-08-13 21:00:00</td>\n",
       "      <td>0.002785</td>\n",
       "      <td>0.000840</td>\n",
       "      <td>0.897803</td>\n",
       "      <td>0</td>\n",
       "      <td>True</td>\n",
       "      <td>0</td>\n",
       "      <td>-1</td>\n",
       "      <td>0</td>\n",
       "      <td>0</td>\n",
       "      <td>rf-reg</td>\n",
       "      <td>zscore_atr_v1</td>\n",
       "    </tr>\n",
       "    <tr>\n",
       "      <th>93</th>\n",
       "      <td>ETHUSDT</td>\n",
       "      <td>2025-08-13 22:00:00</td>\n",
       "      <td>0.003166</td>\n",
       "      <td>0.001055</td>\n",
       "      <td>1.178963</td>\n",
       "      <td>1</td>\n",
       "      <td>True</td>\n",
       "      <td>1</td>\n",
       "      <td>1</td>\n",
       "      <td>1</td>\n",
       "      <td>1</td>\n",
       "      <td>rf-reg</td>\n",
       "      <td>zscore_atr_v1</td>\n",
       "    </tr>\n",
       "    <tr>\n",
       "      <th>94</th>\n",
       "      <td>ETHUSDT</td>\n",
       "      <td>2025-08-13 23:00:00</td>\n",
       "      <td>-0.006913</td>\n",
       "      <td>0.001415</td>\n",
       "      <td>1.659074</td>\n",
       "      <td>1</td>\n",
       "      <td>True</td>\n",
       "      <td>1</td>\n",
       "      <td>1</td>\n",
       "      <td>0</td>\n",
       "      <td>0</td>\n",
       "      <td>rf-reg</td>\n",
       "      <td>zscore_atr_v1</td>\n",
       "    </tr>\n",
       "    <tr>\n",
       "      <th>95</th>\n",
       "      <td>ETHUSDT</td>\n",
       "      <td>2025-08-14 00:00:00</td>\n",
       "      <td>0.004298</td>\n",
       "      <td>0.000200</td>\n",
       "      <td>-0.326457</td>\n",
       "      <td>0</td>\n",
       "      <td>True</td>\n",
       "      <td>0</td>\n",
       "      <td>1</td>\n",
       "      <td>0</td>\n",
       "      <td>0</td>\n",
       "      <td>rf-reg</td>\n",
       "      <td>zscore_atr_v1</td>\n",
       "    </tr>\n",
       "  </tbody>\n",
       "</table>\n",
       "</div>"
      ],
      "text/plain": [
       "     symbol            datetime   actuals  predicted    zscore  raw_signal  \\\n",
       "91  ETHUSDT 2025-08-13 20:00:00  0.000759  -0.000445 -1.378957          -1   \n",
       "92  ETHUSDT 2025-08-13 21:00:00  0.002785   0.000840  0.897803           0   \n",
       "93  ETHUSDT 2025-08-13 22:00:00  0.003166   0.001055  1.178963           1   \n",
       "94  ETHUSDT 2025-08-13 23:00:00 -0.006913   0.001415  1.659074           1   \n",
       "95  ETHUSDT 2025-08-14 00:00:00  0.004298   0.000200 -0.326457           0   \n",
       "\n",
       "    vol_filter  filtered_signal  position  signal_reversal  final_signal  \\\n",
       "91        True               -1        -1                0             0   \n",
       "92        True                0        -1                0             0   \n",
       "93        True                1         1                1             1   \n",
       "94        True                1         1                0             0   \n",
       "95        True                0         1                0             0   \n",
       "\n",
       "   model_name  strategy_name  \n",
       "91     rf-reg  zscore_atr_v1  \n",
       "92     rf-reg  zscore_atr_v1  \n",
       "93     rf-reg  zscore_atr_v1  \n",
       "94     rf-reg  zscore_atr_v1  \n",
       "95     rf-reg  zscore_atr_v1  "
      ]
     },
     "execution_count": 12,
     "metadata": {},
     "output_type": "execute_result"
    }
   ],
   "source": [
    "signals_df.tail(5)"
   ]
  }
 ],
 "metadata": {
  "kernelspec": {
   "display_name": "Python (ml4t)",
   "language": "python",
   "name": "ml4t"
  },
  "language_info": {
   "codemirror_mode": {
    "name": "ipython",
    "version": 3
   },
   "file_extension": ".py",
   "mimetype": "text/x-python",
   "name": "python",
   "nbconvert_exporter": "python",
   "pygments_lexer": "ipython3",
   "version": "3.12.3"
  }
 },
 "nbformat": 4,
 "nbformat_minor": 5
}
