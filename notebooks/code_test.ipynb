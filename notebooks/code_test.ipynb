{
 "cells": [
  {
   "cell_type": "markdown",
   "id": "e7aab17e",
   "metadata": {},
   "source": [
    "### Import & Settings"
   ]
  },
  {
   "cell_type": "code",
   "execution_count": 1,
   "id": "b6b87621",
   "metadata": {},
   "outputs": [],
   "source": [
    "import warnings, importlib\n",
    "warnings.filterwarnings('ignore')\n",
    "\n",
    "import pandas as pd\n",
    "from datetime import datetime, timedelta, timezone\n",
    "import matplotlib.pyplot as plt\n",
    "\n",
    "pd.set_option(\"display.max_rows\", 100)\n",
    "pd.set_option(\"display.max_columns\", None)"
   ]
  },
  {
   "cell_type": "code",
   "execution_count": 2,
   "id": "6f536837",
   "metadata": {},
   "outputs": [],
   "source": [
    "import sys\n",
    "from pathlib import Path\n",
    "project_dir = Path().resolve().parent\n",
    "sys.path.append(str(project_dir))"
   ]
  },
  {
   "cell_type": "code",
   "execution_count": 3,
   "id": "de715792",
   "metadata": {},
   "outputs": [],
   "source": [
    "from data.crypto_data_loader import load_multi_symbol_data, DataHandler\n",
    "\n",
    "from model.feature_generator import FeatureGenerator, FeatureProcessor\n",
    "from model.fit_pred import split_data, clean_xy, fit_predict_last_line\n",
    "from model.signal_generator import SignalGenerator\n",
    "\n",
    "handler = DataHandler()"
   ]
  },
  {
   "cell_type": "code",
   "execution_count": 4,
   "id": "c6b686d8",
   "metadata": {},
   "outputs": [],
   "source": [
    "# data symbols\n",
    "target = 'ETHUSDT'\n",
    "load_symbols = ['BTCUSDT', 'ETHUSDT','SOLUSDT','DOGEUSDT']\n",
    "\n",
    "INTERVAL = '1h'\n",
    "START_DELTA = timedelta(days=60)\n",
    "# DB_PATH = 'data/crypto_data.db'\n",
    "MODEL_NAME = 'rf-reg'\n",
    "STRATEGY_NAME = 'zscore_atr_v1'\n",
    "target_col = 'target_1h'\n",
    "\n",
    "target_cols = ['target_1h','target_2h','target_4h','target_12h']"
   ]
  },
  {
   "cell_type": "code",
   "execution_count": 5,
   "id": "7b834b4c",
   "metadata": {},
   "outputs": [],
   "source": [
    "# model\n",
    "from sklearn.ensemble import RandomForestRegressor\n",
    "reg_rf = RandomForestRegressor(\n",
    "    n_estimators=300,\n",
    "    min_samples_leaf=5,\n",
    "    max_features='sqrt',\n",
    "    max_depth=15,\n",
    "    random_state=42,\n",
    "    n_jobs=-1)\n",
    "\n",
    "train_model = reg_rf"
   ]
  },
  {
   "cell_type": "code",
   "execution_count": 6,
   "id": "f6666121",
   "metadata": {},
   "outputs": [],
   "source": [
    "# feature engineering params\n",
    "feature_config = {\n",
    "    \"other_symbols\": ['BTCUSDT', 'ETHUSDT','SOLUSDT','DOGEUSDT'],\n",
    "    \"lags\": [1, 2, 4, 12, 24, 48, 72], # lags must contain rt_targets\n",
    "    \"rt_targets\": [1, 2, 4, 12, 24],\n",
    "    \"vol_window\": 24,\n",
    "    \"rsi_window\": 12,\n",
    "    \"mfi_window\": 12,\n",
    "    \"bb_window\": 24,\n",
    "    \"tema_windows\": [12,24,36],\n",
    "    \"adx_window\": 12,\n",
    "    \"cmo_window\": 12,\n",
    "    \"ulti_os_windows\": {\n",
    "            'period1':8,\n",
    "            'period2':12,\n",
    "            'period3':24\n",
    "        },\n",
    "    \"patterns\": {\n",
    "            'CDLENGULFING': '吞没形态',\n",
    "            'CDLHAMMER': '锤子线',\n",
    "            'CDLHANGINGMAN': '吊人线',\n",
    "            'CDLDOJI': '十字星',\n",
    "            'CDLDRAGONFLYDOJI': '蜻蜓十字星',\n",
    "            'CDLGRAVESTONEDOJI': '墓碑十字星',\n",
    "            'CDLMORNINGSTAR': '晨星',\n",
    "            'CDLEVENINGSTAR': '暮星',\n",
    "            'CDLSHOOTINGSTAR': '流星',\n",
    "            'CDLMARUBOZU': '光头光脚'\n",
    "        }\n",
    "}\n",
    "\n",
    "# cols to scale and drop\n",
    "feature_process_config = {\n",
    "    'metrics_to_scale': [\"high\", \"low\", \"close\"],\n",
    "    'cols_to_drop': [\"open\",\"high\",\"low\",\"close\",\"volume\",\"dollar_vol\",\"hour\",\n",
    "                \"atr\",\"macdhist\",'hour_bin_label','cmo','tema_12','tema_24','tema_36']\n",
    "}"
   ]
  },
  {
   "cell_type": "markdown",
   "id": "d2253f5c",
   "metadata": {},
   "source": [
    "### 阶段 2：接通pipeline"
   ]
  },
  {
   "cell_type": "code",
   "execution_count": 75,
   "id": "21ee8b08",
   "metadata": {},
   "outputs": [
    {
     "data": {
      "text/plain": [
       "<module 'data.db_utils' from 'D:\\\\PersonalFiles\\\\Development\\\\Git Projects\\\\data-analytics-portfolio\\\\trading-signal\\\\data\\\\db_utils.py'>"
      ]
     },
     "execution_count": 75,
     "metadata": {},
     "output_type": "execute_result"
    }
   ],
   "source": [
    "import pipeline\n",
    "import data.db_utils as dbu\n",
    "\n",
    "importlib.reload(pipeline)\n",
    "importlib.reload(dbu)"
   ]
  },
  {
   "cell_type": "markdown",
   "id": "02c5bee8",
   "metadata": {},
   "source": [
    "#### 初始化"
   ]
  },
  {
   "cell_type": "code",
   "execution_count": 8,
   "id": "39cd3079",
   "metadata": {},
   "outputs": [],
   "source": [
    "DB_PATH = '../data/crypto_data.db'\n",
    "conn = dbu.get_connection(DB_PATH)"
   ]
  },
  {
   "cell_type": "code",
   "execution_count": 66,
   "id": "42f98b86",
   "metadata": {},
   "outputs": [],
   "source": [
    "dbu.init_db(conn) # 初始化几张表"
   ]
  },
  {
   "cell_type": "code",
   "execution_count": null,
   "id": "3b28e723",
   "metadata": {},
   "outputs": [
    {
     "name": "stdout",
     "output_type": "stream",
     "text": [
      "Fetching price data backfill: [2025-08-24 14:59:00, 2025-08-27 14:59:00] for 4 symbols ...\n",
      "Upserting 288 rows into kline (backfill 72h, no lag, allow provisional bars)...\n"
     ]
    },
    {
     "data": {
      "application/vnd.microsoft.datawrangler.viewer.v0+json": {
       "columns": [
        {
         "name": "index",
         "rawType": "int64",
         "type": "integer"
        },
        {
         "name": "symbol",
         "rawType": "object",
         "type": "string"
        },
        {
         "name": "n",
         "rawType": "int64",
         "type": "integer"
        }
       ],
       "ref": "bbf5d7b7-7d04-49c1-a62e-1db9eb8baa41",
       "rows": [
        [
         "0",
         "BTCUSDT",
         "72"
        ],
        [
         "1",
         "DOGEUSDT",
         "72"
        ],
        [
         "2",
         "ETHUSDT",
         "72"
        ],
        [
         "3",
         "SOLUSDT",
         "72"
        ]
       ],
       "shape": {
        "columns": 2,
        "rows": 4
       }
      },
      "text/html": [
       "<div>\n",
       "<style scoped>\n",
       "    .dataframe tbody tr th:only-of-type {\n",
       "        vertical-align: middle;\n",
       "    }\n",
       "\n",
       "    .dataframe tbody tr th {\n",
       "        vertical-align: top;\n",
       "    }\n",
       "\n",
       "    .dataframe thead th {\n",
       "        text-align: right;\n",
       "    }\n",
       "</style>\n",
       "<table border=\"1\" class=\"dataframe\">\n",
       "  <thead>\n",
       "    <tr style=\"text-align: right;\">\n",
       "      <th></th>\n",
       "      <th>symbol</th>\n",
       "      <th>n</th>\n",
       "    </tr>\n",
       "  </thead>\n",
       "  <tbody>\n",
       "    <tr>\n",
       "      <th>0</th>\n",
       "      <td>BTCUSDT</td>\n",
       "      <td>72</td>\n",
       "    </tr>\n",
       "    <tr>\n",
       "      <th>1</th>\n",
       "      <td>DOGEUSDT</td>\n",
       "      <td>72</td>\n",
       "    </tr>\n",
       "    <tr>\n",
       "      <th>2</th>\n",
       "      <td>ETHUSDT</td>\n",
       "      <td>72</td>\n",
       "    </tr>\n",
       "    <tr>\n",
       "      <th>3</th>\n",
       "      <td>SOLUSDT</td>\n",
       "      <td>72</td>\n",
       "    </tr>\n",
       "  </tbody>\n",
       "</table>\n",
       "</div>"
      ],
      "text/plain": [
       "     symbol   n\n",
       "0   BTCUSDT  72\n",
       "1  DOGEUSDT  72\n",
       "2   ETHUSDT  72\n",
       "3   SOLUSDT  72"
      ]
     },
     "execution_count": 56,
     "metadata": {},
     "output_type": "execute_result"
    }
   ],
   "source": [
    "# 拉取并 upsert 最近 72 小时的K线到 kline 表\n",
    "pipeline.fetch_and_store_backfill_no_lag(conn, handler, symbols = load_symbols, backfill_hours=72)\n",
    "\n",
    "# （可选）粗检 kline 表是否有数据\n",
    "pd.read_sql_query(\"SELECT symbol, COUNT(*) AS n FROM kline GROUP BY symbol\", conn)"
   ]
  },
  {
   "cell_type": "markdown",
   "id": "212fbc9e",
   "metadata": {},
   "source": [
    "#### 历史回填"
   ]
  },
  {
   "cell_type": "code",
   "execution_count": 9,
   "id": "2aadfc2f",
   "metadata": {},
   "outputs": [],
   "source": [
    "df_processed, price_all = pipeline.prepare_feature_data_from_start(handler=handler,\n",
    "                                                        symbols=load_symbols,\n",
    "                                                        target=target,\n",
    "                                                        start_str='2025-08-15',\n",
    "                                                        buffer_windows=300,\n",
    "                                                        train_windows=24*7*4)"
   ]
  },
  {
   "cell_type": "code",
   "execution_count": 10,
   "id": "90c2fe7d",
   "metadata": {},
   "outputs": [],
   "source": [
    "from model.fit_pred import split_data, clean_xy\n",
    "\n",
    "X, y = split_data(df_processed)\n",
    "X_clean, y_clean = clean_xy(X, y[target_col])"
   ]
  },
  {
   "cell_type": "code",
   "execution_count": 12,
   "id": "f7aa30bb",
   "metadata": {},
   "outputs": [],
   "source": [
    "from model.timeseries_cv import MultipleTimeSeriesCV\n",
    "tscv = MultipleTimeSeriesCV(train_length=24*7*4, test_length=1, lookahead=1, date_idx='datetime')"
   ]
  },
  {
   "cell_type": "code",
   "execution_count": 13,
   "id": "b23f3e34",
   "metadata": {},
   "outputs": [],
   "source": [
    "pred_df = pipeline.train_and_predict(df_processed, cv=tscv)"
   ]
  },
  {
   "cell_type": "code",
   "execution_count": 76,
   "id": "94d48cec",
   "metadata": {},
   "outputs": [
    {
     "name": "stdout",
     "output_type": "stream",
     "text": [
      "2025-08-22 01:00:00\n",
      "pred_hist_df.shape: (167, 4)\n"
     ]
    }
   ],
   "source": [
    "# 只一步\n",
    "start_str = (datetime.utcnow().replace(minute=0, second=0, microsecond=0) - timedelta(days=7)).strftime(\"%Y-%m-%d %H:%M:%S\")\n",
    "print(start_str)\n",
    "\n",
    "pred_hist_df = pipeline.backfill_predictions_from(handler=handler,\n",
    "                                                  start_str=start_str, \n",
    "                                                  symbols=load_symbols,\n",
    "                                                  target=target, \n",
    "                                                  buffer_windows=300,\n",
    "                                                  train_windows=24*7*4)\n",
    "print(\"pred_hist_df.shape:\", None if pred_hist_df is None else pred_hist_df.shape)"
   ]
  },
  {
   "cell_type": "markdown",
   "id": "eac1049d",
   "metadata": {},
   "source": [
    "#### 历史预测存入predictions表"
   ]
  },
  {
   "cell_type": "code",
   "execution_count": 77,
   "id": "a4ac512e",
   "metadata": {},
   "outputs": [],
   "source": [
    "dbu.upsert_df(pred_hist_df.reset_index(), 'predictions', conn)"
   ]
  },
  {
   "cell_type": "markdown",
   "id": "f43f19be",
   "metadata": {},
   "source": [
    "#### 获取predictions表里的最大datetime\n",
    "填充缺失的预测"
   ]
  },
  {
   "cell_type": "code",
   "execution_count": 52,
   "id": "557b55bf",
   "metadata": {},
   "outputs": [
    {
     "name": "stdout",
     "output_type": "stream",
     "text": [
      "2025-08-28 19:00:00\n"
     ]
    }
   ],
   "source": [
    "max_dt = dbu.get_last_timestamp(conn, table='predictions')\n",
    "print(max_dt)"
   ]
  },
  {
   "cell_type": "code",
   "execution_count": 53,
   "id": "61dc8b29",
   "metadata": {},
   "outputs": [],
   "source": [
    "pred_fill_df = pipeline.backfill_predictions_from(handler=handler,\n",
    "                                                  start_str=max_dt, \n",
    "                                                  symbols=load_symbols,\n",
    "                                                  target=target, \n",
    "                                                  buffer_windows=300,\n",
    "                                                  train_windows=24*7*4)"
   ]
  },
  {
   "cell_type": "code",
   "execution_count": 54,
   "id": "fb2f4e9c",
   "metadata": {},
   "outputs": [],
   "source": [
    "dbu.upsert_df(pred_fill_df.reset_index(), 'predictions', conn)"
   ]
  },
  {
   "cell_type": "markdown",
   "id": "83ff846b",
   "metadata": {},
   "source": [
    "#### 只预测最后一条"
   ]
  },
  {
   "cell_type": "code",
   "execution_count": 32,
   "id": "142f40f2",
   "metadata": {},
   "outputs": [
    {
     "name": "stdout",
     "output_type": "stream",
     "text": [
      "2025-08-28 11:00:00\n"
     ]
    }
   ],
   "source": [
    "start_str = (datetime.utcnow().replace(minute=0, second=0, microsecond=0) - timedelta(hours=2)).strftime(\"%Y-%m-%d %H:%M:%S\")\n",
    "print(start_str)\n",
    "\n",
    "df_processed, price_all = pipeline.prepare_feature_data_from_start(handler=handler,\n",
    "                                                                   symbols=load_symbols,\n",
    "                                                                   target=target,\n",
    "                                                                   start_str=start_str,\n",
    "                                                                   buffer_windows=300,\n",
    "                                                                   train_windows=24*7*4)"
   ]
  },
  {
   "cell_type": "code",
   "execution_count": 21,
   "id": "2b7b2f2e",
   "metadata": {},
   "outputs": [],
   "source": [
    "X, y = split_data(df_processed)\n",
    "X_clean, y_clean = clean_xy(X, y[target_col])"
   ]
  },
  {
   "cell_type": "code",
   "execution_count": 22,
   "id": "1d48b3c1",
   "metadata": {},
   "outputs": [
    {
     "name": "stdout",
     "output_type": "stream",
     "text": [
      "{'timestamp': Timestamp('2025-08-27 23:00:00'), 'y_pred': -0.0010631664009917643}\n"
     ]
    }
   ],
   "source": [
    "out = fit_predict_last_line(model=train_model, X=X_clean, y=y_clean, train_length=24*7*4)\n",
    "print(out)"
   ]
  },
  {
   "cell_type": "code",
   "execution_count": 73,
   "id": "71edec1c",
   "metadata": {},
   "outputs": [
    {
     "name": "stdout",
     "output_type": "stream",
     "text": [
      "    symbol             datetime  predicted model_name\n",
      "0  ETHUSDT  2025-08-29 00:00:00   0.000083     rf-reg\n"
     ]
    }
   ],
   "source": [
    "# 只一步\n",
    "latest = pipeline.predict_latest(handler=handler,\n",
    "                              symbols=load_symbols,\n",
    "                             target=target,\n",
    "                             buffer_windows=300,\n",
    "                             train_windows=24*7*4)\n",
    "print(latest)"
   ]
  },
  {
   "cell_type": "markdown",
   "id": "c002ed95",
   "metadata": {},
   "source": [
    "#### 最后一条存入predictions表"
   ]
  },
  {
   "cell_type": "code",
   "execution_count": 74,
   "id": "f2a8adee",
   "metadata": {},
   "outputs": [],
   "source": [
    "dbu.upsert_df(latest, 'predictions', conn)"
   ]
  },
  {
   "cell_type": "markdown",
   "id": "1f2409ca",
   "metadata": {},
   "source": [
    "#### 从predition表生成信号"
   ]
  },
  {
   "cell_type": "code",
   "execution_count": 78,
   "id": "bcb7a870",
   "metadata": {},
   "outputs": [],
   "source": [
    "# 取近期历史预测\n",
    "until_dt = (\n",
    "    pd.Timestamp.now(tz=timezone.utc)   # 带UTC时区的 pandas Timestamp\n",
    "      .floor('H')                       # 对齐到整点\n",
    "      .tz_convert(None)                 # 去时区，变“naive UTC”\n",
    ")\n",
    "hist_pred = dbu.fetch_predictions_history(conn, symbol=target, until_dt=until_dt, lookback_hours=24*5)"
   ]
  },
  {
   "cell_type": "code",
   "execution_count": 79,
   "id": "85f0efeb",
   "metadata": {},
   "outputs": [],
   "source": [
    "# 获取近期价格数据\n",
    "start_dt = (hist_pred.index.min() - pd.Timedelta(hours=24)).strftime('%Y-%m-%d %H:%M:%S')\n",
    "price_hist = load_multi_symbol_data(handler, symbols=load_symbols, start_str=start_dt)"
   ]
  },
  {
   "cell_type": "code",
   "execution_count": 80,
   "id": "3b4deb57",
   "metadata": {},
   "outputs": [],
   "source": [
    "# 生成信号\n",
    "from pipeline import signal_config\n",
    "\n",
    "pred_df = hist_pred.copy()\n",
    "pred_df.index.name = 'datetime'\n",
    "# pred_df = pred_df.reset_index()\n",
    "pred_df['symbol'] = target\n",
    "\n",
    "df_signal = (\n",
    "    SignalGenerator(config=signal_config)\n",
    "    .load_data(pred_df=pred_df, price_df=price_hist)\n",
    "    .merge_pred_price(target_symbol=target)\n",
    "    .zscore_normalize()\n",
    "    .compute_raw_signal()\n",
    "    .apply_atr_volatility_filter()\n",
    "    .compute_positions()\n",
    "    .compute_reversals()\n",
    "    .apply_min_signal_spacing(min_space=2)\n",
    ")"
   ]
  },
  {
   "cell_type": "code",
   "execution_count": 81,
   "id": "c8dec718",
   "metadata": {},
   "outputs": [
    {
     "name": "stdout",
     "output_type": "stream",
     "text": [
      "<class 'pandas.core.frame.DataFrame'>\n",
      "DatetimeIndex: 120 entries, 2025-08-24 01:00:00 to 2025-08-29 00:00:00\n",
      "Data columns (total 14 columns):\n",
      " #   Column           Non-Null Count  Dtype  \n",
      "---  ------           --------------  -----  \n",
      " 0   predicted        120 non-null    float64\n",
      " 1   symbol           120 non-null    object \n",
      " 2   open             120 non-null    float64\n",
      " 3   high             120 non-null    float64\n",
      " 4   low              120 non-null    float64\n",
      " 5   close            120 non-null    float64\n",
      " 6   volume           120 non-null    float64\n",
      " 7   zscore           97 non-null     float64\n",
      " 8   raw_signal       120 non-null    int64  \n",
      " 9   vol_filter       120 non-null    bool   \n",
      " 10  filtered_signal  120 non-null    int64  \n",
      " 11  position         120 non-null    int64  \n",
      " 12  signal_reversal  120 non-null    int64  \n",
      " 13  final_signal     120 non-null    int64  \n",
      "dtypes: bool(1), float64(7), int64(5), object(1)\n",
      "memory usage: 17.3+ KB\n"
     ]
    }
   ],
   "source": [
    "df_signal.info()"
   ]
  },
  {
   "cell_type": "code",
   "execution_count": 82,
   "id": "f8a11247",
   "metadata": {},
   "outputs": [],
   "source": [
    "df_signal['model_name'] = MODEL_NAME\n",
    "df_signal['strategy_name'] = STRATEGY_NAME\n",
    "df_signal['actuals'] = df_signal['close'].shift(-1) / df_signal['close'] - 1"
   ]
  },
  {
   "cell_type": "markdown",
   "id": "69aa2b10",
   "metadata": {},
   "source": [
    "#### 信号插入signals库表"
   ]
  },
  {
   "cell_type": "code",
   "execution_count": 83,
   "id": "419e31a5",
   "metadata": {},
   "outputs": [],
   "source": [
    "dbu.upsert_df(df_signal.reset_index(),'signals', conn)"
   ]
  },
  {
   "cell_type": "markdown",
   "id": "76260c60",
   "metadata": {},
   "source": [
    "### 阶段 1：支持“最后 1 小时预测"
   ]
  },
  {
   "cell_type": "code",
   "execution_count": 12,
   "id": "1234cbf2",
   "metadata": {},
   "outputs": [
    {
     "name": "stdout",
     "output_type": "stream",
     "text": [
      "2025-06-27 01:01:17\n"
     ]
    }
   ],
   "source": [
    "# Load data from api\n",
    "model_start_date = (datetime.utcnow() - START_DELTA).strftime('%Y-%m-%d %H:%M:%S')\n",
    "print(model_start_date)\n",
    "\n",
    "df_price = load_multi_symbol_data(handler=handler, symbols=load_symbols, interval=INTERVAL, start_str=model_start_date)"
   ]
  },
  {
   "cell_type": "code",
   "execution_count": 13,
   "id": "da348b89",
   "metadata": {},
   "outputs": [],
   "source": [
    "# Feature generation and processing\n",
    "df_features = (\n",
    "        FeatureGenerator(config=feature_config)\n",
    "        .load_data(df=df_price)\n",
    "        .select_symbols(target_symbol=target)\n",
    "        .compute_volume_features()\n",
    "        .compute_momentum_features()\n",
    "        .compute_volatility_features()\n",
    "        .compute_target_cols()\n",
    "        .compute_time_dummies()\n",
    "        .compute_tech_indicators()\n",
    "        .compute_candle_patterns()\n",
    "        .get_single_symbol_data(target_symbol=target)\n",
    "    )\n",
    "\n",
    "df_processed = (\n",
    "        FeatureProcessor(config=feature_process_config)\n",
    "        .load_data(df=df_features)\n",
    "        .scale_metrics()\n",
    "        .drop_cols()\n",
    "        .df\n",
    "    )"
   ]
  },
  {
   "cell_type": "code",
   "execution_count": 14,
   "id": "73e7cd92",
   "metadata": {},
   "outputs": [],
   "source": [
    "X, y = split_data(df_processed)\n",
    "X_clean, y_clean = clean_xy(X, y[target_col])"
   ]
  },
  {
   "cell_type": "code",
   "execution_count": 15,
   "id": "5e692ce2",
   "metadata": {},
   "outputs": [
    {
     "data": {
      "application/vnd.microsoft.datawrangler.viewer.v0+json": {
       "columns": [
        {
         "name": "datetime",
         "rawType": "datetime64[ns]",
         "type": "datetime"
        },
        {
         "name": "log_dollar_vol",
         "rawType": "float64",
         "type": "float"
        },
        {
         "name": "log_dollar_vol_3d",
         "rawType": "float64",
         "type": "float"
        },
        {
         "name": "return_1h",
         "rawType": "float64",
         "type": "float"
        },
        {
         "name": "return_2h",
         "rawType": "float64",
         "type": "float"
        },
        {
         "name": "return_4h",
         "rawType": "float64",
         "type": "float"
        },
        {
         "name": "return_12h",
         "rawType": "float64",
         "type": "float"
        },
        {
         "name": "return_24h",
         "rawType": "float64",
         "type": "float"
        },
        {
         "name": "return_48h",
         "rawType": "float64",
         "type": "float"
        },
        {
         "name": "return_72h",
         "rawType": "float64",
         "type": "float"
        },
        {
         "name": "return_1h_lag1",
         "rawType": "float64",
         "type": "float"
        },
        {
         "name": "return_2h_lag1",
         "rawType": "float64",
         "type": "float"
        },
        {
         "name": "return_4h_lag1",
         "rawType": "float64",
         "type": "float"
        },
        {
         "name": "return_12h_lag1",
         "rawType": "float64",
         "type": "float"
        },
        {
         "name": "return_24h_lag1",
         "rawType": "float64",
         "type": "float"
        },
        {
         "name": "return_48h_lag1",
         "rawType": "float64",
         "type": "float"
        },
        {
         "name": "return_72h_lag1",
         "rawType": "float64",
         "type": "float"
        },
        {
         "name": "return_1h_lag2",
         "rawType": "float64",
         "type": "float"
        },
        {
         "name": "return_2h_lag2",
         "rawType": "float64",
         "type": "float"
        },
        {
         "name": "return_4h_lag2",
         "rawType": "float64",
         "type": "float"
        },
        {
         "name": "return_12h_lag2",
         "rawType": "float64",
         "type": "float"
        },
        {
         "name": "return_24h_lag2",
         "rawType": "float64",
         "type": "float"
        },
        {
         "name": "return_48h_lag2",
         "rawType": "float64",
         "type": "float"
        },
        {
         "name": "return_72h_lag2",
         "rawType": "float64",
         "type": "float"
        },
        {
         "name": "return_1h_lag3",
         "rawType": "float64",
         "type": "float"
        },
        {
         "name": "return_2h_lag3",
         "rawType": "float64",
         "type": "float"
        },
        {
         "name": "return_4h_lag3",
         "rawType": "float64",
         "type": "float"
        },
        {
         "name": "return_12h_lag3",
         "rawType": "float64",
         "type": "float"
        },
        {
         "name": "return_24h_lag3",
         "rawType": "float64",
         "type": "float"
        },
        {
         "name": "return_48h_lag3",
         "rawType": "float64",
         "type": "float"
        },
        {
         "name": "return_72h_lag3",
         "rawType": "float64",
         "type": "float"
        },
        {
         "name": "std_ret",
         "rawType": "float64",
         "type": "float"
        },
        {
         "name": "skew_ret",
         "rawType": "float64",
         "type": "float"
        },
        {
         "name": "kurtosis_ret",
         "rawType": "float64",
         "type": "float"
        },
        {
         "name": "max_ret",
         "rawType": "float64",
         "type": "float"
        },
        {
         "name": "std_dollar_vol",
         "rawType": "float64",
         "type": "float"
        },
        {
         "name": "weekday_1",
         "rawType": "bool",
         "type": "boolean"
        },
        {
         "name": "weekday_2",
         "rawType": "bool",
         "type": "boolean"
        },
        {
         "name": "weekday_3",
         "rawType": "bool",
         "type": "boolean"
        },
        {
         "name": "weekday_4",
         "rawType": "bool",
         "type": "boolean"
        },
        {
         "name": "weekday_5",
         "rawType": "bool",
         "type": "boolean"
        },
        {
         "name": "weekday_6",
         "rawType": "bool",
         "type": "boolean"
        },
        {
         "name": "hour_bin_1",
         "rawType": "bool",
         "type": "boolean"
        },
        {
         "name": "hour_bin_2",
         "rawType": "bool",
         "type": "boolean"
        },
        {
         "name": "hour_bin_3",
         "rawType": "bool",
         "type": "boolean"
        },
        {
         "name": "hour_bin_4",
         "rawType": "bool",
         "type": "boolean"
        },
        {
         "name": "hour_bin_5",
         "rawType": "bool",
         "type": "boolean"
        },
        {
         "name": "rsi",
         "rawType": "float64",
         "type": "float"
        },
        {
         "name": "mfi",
         "rawType": "float64",
         "type": "float"
        },
        {
         "name": "atr_norm",
         "rawType": "float64",
         "type": "float"
        },
        {
         "name": "macdhist_norm",
         "rawType": "float64",
         "type": "float"
        },
        {
         "name": "bb_high",
         "rawType": "float64",
         "type": "float"
        },
        {
         "name": "bb_low",
         "rawType": "float64",
         "type": "float"
        },
        {
         "name": "tema_12_norm",
         "rawType": "float64",
         "type": "float"
        },
        {
         "name": "tema_24_norm",
         "rawType": "float64",
         "type": "float"
        },
        {
         "name": "tema_36_norm",
         "rawType": "float64",
         "type": "float"
        },
        {
         "name": "adx",
         "rawType": "float64",
         "type": "float"
        },
        {
         "name": "minus_di",
         "rawType": "float64",
         "type": "float"
        },
        {
         "name": "plus_di",
         "rawType": "float64",
         "type": "float"
        },
        {
         "name": "ultosc",
         "rawType": "float64",
         "type": "float"
        },
        {
         "name": "bop",
         "rawType": "float64",
         "type": "float"
        },
        {
         "name": "CDLENGULFING",
         "rawType": "int32",
         "type": "integer"
        },
        {
         "name": "CDLHAMMER",
         "rawType": "int32",
         "type": "integer"
        },
        {
         "name": "CDLHANGINGMAN",
         "rawType": "int32",
         "type": "integer"
        },
        {
         "name": "CDLDOJI",
         "rawType": "int32",
         "type": "integer"
        },
        {
         "name": "CDLDRAGONFLYDOJI",
         "rawType": "int32",
         "type": "integer"
        },
        {
         "name": "CDLGRAVESTONEDOJI",
         "rawType": "int32",
         "type": "integer"
        },
        {
         "name": "CDLMORNINGSTAR",
         "rawType": "int32",
         "type": "integer"
        },
        {
         "name": "CDLEVENINGSTAR",
         "rawType": "int32",
         "type": "integer"
        },
        {
         "name": "CDLSHOOTINGSTAR",
         "rawType": "int32",
         "type": "integer"
        },
        {
         "name": "CDLMARUBOZU",
         "rawType": "int32",
         "type": "integer"
        },
        {
         "name": "BTC_log_dollar_vol",
         "rawType": "float64",
         "type": "float"
        },
        {
         "name": "BTC_return_1h",
         "rawType": "float64",
         "type": "float"
        },
        {
         "name": "BTC_return_2h",
         "rawType": "float64",
         "type": "float"
        },
        {
         "name": "BTC_return_4h",
         "rawType": "float64",
         "type": "float"
        },
        {
         "name": "BTC_std_ret",
         "rawType": "float64",
         "type": "float"
        },
        {
         "name": "BTC_std_dollar_vol",
         "rawType": "float64",
         "type": "float"
        },
        {
         "name": "BTC_rsi",
         "rawType": "float64",
         "type": "float"
        },
        {
         "name": "BTC_bb_high",
         "rawType": "float64",
         "type": "float"
        },
        {
         "name": "BTC_bb_low",
         "rawType": "float64",
         "type": "float"
        },
        {
         "name": "BTC_adx",
         "rawType": "float64",
         "type": "float"
        },
        {
         "name": "BTC_plus_di",
         "rawType": "float64",
         "type": "float"
        },
        {
         "name": "BTC_minus_di",
         "rawType": "float64",
         "type": "float"
        },
        {
         "name": "BTC_bop",
         "rawType": "float64",
         "type": "float"
        },
        {
         "name": "SOL_log_dollar_vol",
         "rawType": "float64",
         "type": "float"
        },
        {
         "name": "SOL_return_1h",
         "rawType": "float64",
         "type": "float"
        },
        {
         "name": "SOL_return_2h",
         "rawType": "float64",
         "type": "float"
        },
        {
         "name": "SOL_return_4h",
         "rawType": "float64",
         "type": "float"
        },
        {
         "name": "SOL_std_ret",
         "rawType": "float64",
         "type": "float"
        },
        {
         "name": "SOL_std_dollar_vol",
         "rawType": "float64",
         "type": "float"
        },
        {
         "name": "SOL_rsi",
         "rawType": "float64",
         "type": "float"
        },
        {
         "name": "SOL_bb_high",
         "rawType": "float64",
         "type": "float"
        },
        {
         "name": "SOL_bb_low",
         "rawType": "float64",
         "type": "float"
        },
        {
         "name": "SOL_adx",
         "rawType": "float64",
         "type": "float"
        },
        {
         "name": "SOL_plus_di",
         "rawType": "float64",
         "type": "float"
        },
        {
         "name": "SOL_minus_di",
         "rawType": "float64",
         "type": "float"
        },
        {
         "name": "SOL_bop",
         "rawType": "float64",
         "type": "float"
        },
        {
         "name": "DOGE_log_dollar_vol",
         "rawType": "float64",
         "type": "float"
        },
        {
         "name": "DOGE_return_1h",
         "rawType": "float64",
         "type": "float"
        },
        {
         "name": "DOGE_return_2h",
         "rawType": "float64",
         "type": "float"
        },
        {
         "name": "DOGE_return_4h",
         "rawType": "float64",
         "type": "float"
        },
        {
         "name": "DOGE_std_ret",
         "rawType": "float64",
         "type": "float"
        },
        {
         "name": "DOGE_std_dollar_vol",
         "rawType": "float64",
         "type": "float"
        },
        {
         "name": "DOGE_rsi",
         "rawType": "float64",
         "type": "float"
        },
        {
         "name": "DOGE_bb_high",
         "rawType": "float64",
         "type": "float"
        },
        {
         "name": "DOGE_bb_low",
         "rawType": "float64",
         "type": "float"
        },
        {
         "name": "DOGE_adx",
         "rawType": "float64",
         "type": "float"
        },
        {
         "name": "DOGE_plus_di",
         "rawType": "float64",
         "type": "float"
        },
        {
         "name": "DOGE_minus_di",
         "rawType": "float64",
         "type": "float"
        },
        {
         "name": "DOGE_bop",
         "rawType": "float64",
         "type": "float"
        },
        {
         "name": "high_norm",
         "rawType": "float64",
         "type": "float"
        },
        {
         "name": "low_norm",
         "rawType": "float64",
         "type": "float"
        },
        {
         "name": "close_norm",
         "rawType": "float64",
         "type": "float"
        }
       ],
       "ref": "9878e87b-bd5d-4608-b1c4-42a2fcf13c5e",
       "rows": [
        [
         "2025-08-25 21:00:00",
         "21.225306443467936",
         "20.958404463527337",
         "-0.00022763330344222066",
         "-0.015986421499292858",
         "-0.05171387258654414",
         "-0.05704229322900645",
         "-0.09091080153796949",
         "-0.08433854188602974",
         "-0.10363956832307752",
         "-0.015762376237623665",
         "-0.036307884228272025",
         "-0.009200896320289864",
         "-0.035917314282249535",
         "0.007229499220823055",
         "0.11942743853710192",
         "0.1682489451476794",
         "-0.03371580146645592",
         "-0.005439981259394933",
         "0.003615158073708491",
         "0.0025698696409519606",
         "-0.02107878000762753",
         "0.021614839219312953",
         "-0.057681877083612276",
         "-0.002682526285486042",
         "-0.0037814862753656753",
         "-0.019630187925085085",
         "0.004647685633660359",
         "0.14353169149385092",
         "-0.07163139278543673",
         "-0.0665196455392646",
         "0.010306746569045214",
         "-0.9722567582083349",
         "1.6597128782232284",
         "0.012168920822766882",
         "0.5241262666007989",
         "False",
         "False",
         "False",
         "False",
         "False",
         "False",
         "False",
         "False",
         "False",
         "False",
         "True",
         "21.50390619829327",
         "31.06445398295432",
         "0.014352051567655563",
         "-0.006132677824228621",
         "0.10902646048276904",
         "-0.009261696578180465",
         "1.0082721173676124",
         "1.0186417597184523",
         "1.0277773843578748",
         "41.920672103592345",
         "43.4060032874203",
         "8.433536827534713",
         "26.447090603500516",
         "-0.02048417132217448",
         "0",
         "0",
         "0",
         "100",
         "0",
         "0",
         "0",
         "0",
         "0",
         "0",
         "21.03827985434314",
         "0.0030903799139916366",
         "-0.007328486837824277",
         "-0.022670690842567676",
         "0.00513784372680271",
         "0.563220197041893",
         "29.955010653595615",
         "0.040201153554885606",
         "-0.0037777668902330645",
         "43.147359451159495",
         "10.48063244421236",
         "38.668535585856105",
         "0.3310506750146695",
         "19.66914615423599",
         "0.00042966861807847145",
         "-0.02690418973983899",
         "-0.05273596419853532",
         "0.012455861506452162",
         "0.42286100996311726",
         "20.462127206143883",
         "0.1323344045544173",
         "-0.004038217866399408",
         "35.60109852144994",
         "9.120904611479776",
         "39.90489552746849",
         "0.02800000000000864",
         "18.602631014827566",
         "0.001835748792270664",
         "-0.029574169396349936",
         "-0.05058828915442015",
         "0.01059178482482189",
         "0.45588751628831226",
         "21.3235494578934",
         "0.12962191943473314",
         "-0.0044917480178689045",
         "45.82869367552715",
         "6.294770626525224",
         "41.89922024521201",
         "0.11974110032362721",
         "1.0083074659124875",
         "0.9971948219171781",
         "0.9997723666965578"
        ],
        [
         "2025-08-25 22:00:00",
         "20.899369401456386",
         "20.954401450374377",
         "0.009705366239584734",
         "0.009475523671564234",
         "-0.03993500884553225",
         "-0.03355038391096077",
         "-0.08139826838015285",
         "-0.08166535236250516",
         "-0.087230866466523",
         "-0.00022763330344222066",
         "-0.04894673655621229",
         "-0.018172566381181476",
         "-0.04950892801098061",
         "-0.00029075057574878826",
         "0.12450457612886079",
         "0.16449579221584165",
         "-0.015762376237623665",
         "-0.0045387458694146066",
         "0.02528220977740192",
         "0.008618761211353743",
         "-0.006060442256355825",
         "0.029287436689553692",
         "-0.06651660203039278",
         "-0.03371580146645592",
         "-0.013695983098482634",
         "-0.018662334660442204",
         "-0.008833379002788133",
         "0.13136112489738694",
         "-0.08619999247799259",
         "-0.0649676683149486",
         "0.010661085573330212",
         "-0.9147122905847809",
         "1.330248792907192",
         "0.012168920822766882",
         "0.5260844971925871",
         "False",
         "False",
         "False",
         "False",
         "False",
         "False",
         "False",
         "False",
         "False",
         "False",
         "True",
         "28.626935286773005",
         "37.51737703176297",
         "0.014396060126090118",
         "-0.005695409316277386",
         "0.1074352401321688",
         "-0.004027920558819527",
         "1.0044010925177158",
         "1.0131885825667375",
         "1.0223349770825076",
         "43.06903876680835",
         "39.88230850232437",
         "11.347022129896391",
         "27.39852413341775",
         "0.6329683515824311",
         "0",
         "0",
         "0",
         "0",
         "0",
         "0",
         "0",
         "0",
         "0",
         "0",
         "20.229328295447193",
         "0.0023434192617408645",
         "0.005441041231549093",
         "-0.02009964825838062",
         "0.005075782251901099",
         "0.5657292917826179",
         "33.329142234774615",
         "0.036223740131002116",
         "0.0009083360239729936",
         "43.57530401897765",
         "12.601300831330903",
         "36.13016594651929",
         "0.36561433447097885",
         "19.46501549132201",
         "0.003543243678531205",
         "0.003974434717224362",
         "-0.04816945873007783",
         "0.012453889396941652",
         "0.42671899324046775",
         "23.114719576254583",
         "0.13192967759052773",
         "0.004578704935462153",
         "37.98513935640162",
         "8.384592244478533",
         "38.469254373368415",
         "0.1969696969696997",
         "17.985880579926757",
         "0.007667084579033645",
         "0.009516908212560349",
         "-0.03952750838810504",
         "0.010868770604383323",
         "0.4548921664523949",
         "26.608483173230002",
         "0.12519969207560389",
         "0.0033061161367030838",
         "47.41464693872043",
         "8.32955000159573",
         "39.07842659780753",
         "0.5426621160409512",
         "1.0153330987486517",
         "1.0",
         "1.0097053662395847"
        ],
        [
         "2025-08-25 23:00:00",
         "20.676289066311476",
         "20.957177468702046",
         "-0.0036580560370452764",
         "0.006011807428975002",
         "-0.010070721357850032",
         "-0.04866246193997392",
         "-0.08456319375847576",
         "-0.08436007251018374",
         "-0.09442754902833528",
         "0.009705366239584734",
         "-0.015986421499292858",
         "-0.04155035127789675",
         "-0.03773711262535784",
         "0.00022188451120497277",
         "0.1310604446338519",
         "0.18567529222325319",
         "-0.00022763330344222066",
         "-0.036307884228272025",
         "0.0026772509786865406",
         "0.006820552260348167",
         "-0.010995016944871705",
         "0.03676048248133257",
         "-0.07833999212708875",
         "-0.015762376237623665",
         "-0.005439981259394933",
         "0.0018302248561965495",
         "-0.00655396608097536",
         "0.1436347278452541",
         "-0.08873857551234043",
         "-0.069107925456525",
         "0.01063841052237068",
         "-0.8777861833396786",
         "1.3126956115463777",
         "0.012168920822766882",
         "0.5157818256742468",
         "False",
         "False",
         "False",
         "False",
         "False",
         "False",
         "False",
         "False",
         "False",
         "False",
         "True",
         "27.587607907550478",
         "32.606933929641855",
         "0.014028179726533835",
         "-0.0051791202243626905",
         "0.0953816446138347",
         "0.010601601341394706",
         "0.9910235875164276",
         "0.9981053990608647",
         "1.0070239395182587",
         "44.12170820808968",
         "37.946244549782584",
         "10.796187402937045",
         "28.743713606139742",
         "-0.4179687499999988",
         "0",
         "0",
         "0",
         "0",
         "0",
         "0",
         "0",
         "0",
         "0",
         "0",
         "19.891207983950217",
         "-0.0002988276690805147",
         "0.00204389131414473",
         "-0.005299574154273179",
         "0.005068048593446436",
         "0.5681129432202168",
         "33.1067714706245",
         "0.0326250114644658",
         "0.004486597938232326",
         "44.06421848207742",
         "12.000295081957029",
         "35.471365058737774",
         "-0.06666666666667258",
         "19.027597691419967",
         "0.0008559353768791134",
         "0.004402211843023585",
         "-0.02262041583951513",
         "0.012370735992010424",
         "0.4518937075159842",
         "23.786907547287555",
         "0.12693664955591133",
         "0.014584990305060814",
         "40.17051012177399",
         "7.9779402125515295",
         "36.60349871089732",
         "0.08900523560210273",
         "17.672046370886694",
         "0.0026798104991148097",
         "0.010367441411900824",
         "-0.019513336452971486",
         "0.0108929262107801",
         "0.45427760831589276",
         "28.455001110794107",
         "0.11330240245042296",
         "0.014963640052660458",
         "48.68213734282508",
         "8.575027048938852",
         "37.310830488921944",
         "0.2910052910052879",
         "1.0",
         "0.9912534450948681",
         "0.9963442133794956"
        ],
        [
         "2025-08-26 00:00:00",
         "21.417027510326676",
         "20.96965793979036",
         "-0.010164028119106105",
         "-0.013784903571729679",
         "-0.0044399990802695966",
         "-0.06782594842007139",
         "-0.07857203660353262",
         "-0.09735865577051372",
         "-0.09928147050991876",
         "-0.0036580560370452764",
         "0.009475523671564234",
         "-0.053263325627261104",
         "-0.011527984677590974",
         "-0.02038859239492996",
         "0.130174587093278",
         "0.17167147648389358",
         "0.009705366239584734",
         "-0.04894673655621229",
         "-0.010990714407201119",
         "-0.011446519446039805",
         "-0.0021302090267607543",
         "0.03450881366508063",
         "-0.06988258818355142",
         "-0.00022763330344222066",
         "-0.0045387458694146066",
         "0.010241988455197637",
         "-0.009045613742495018",
         "0.13258723464411082",
         "-0.08033650817845772",
         "-0.06444175786883855",
         "0.010374844582766314",
         "-0.9500284116943774",
         "1.7961678346014176",
         "0.012168920822766882",
         "0.5117443450774011",
         "True",
         "False",
         "False",
         "False",
         "False",
         "False",
         "False",
         "False",
         "False",
         "False",
         "False",
         "24.861645514658946",
         "25.07309656225449",
         "0.014209027275420878",
         "-0.005144595275305636",
         "0.09913332182189286",
         "0.014060844396463084",
         "0.9885895352927122",
         "0.9952162726222266",
         "1.0043439877311475",
         "45.4095819337835",
         "38.61657860233628",
         "9.782343438075184",
         "27.181302635819105",
         "-0.5914593587867499",
         "0",
         "0",
         "0",
         "0",
         "0",
         "0",
         "0",
         "0",
         "0",
         "0",
         "21.3028839871948",
         "-0.009216455880215135",
         "-0.009512529417267768",
         "-0.004123246250494317",
         "0.005172702348630271",
         "0.5871997124554591",
         "27.03880754934881",
         "0.03347585364134938",
         "0.007432923805109619",
         "45.19716005019882",
         "10.643632816680586",
         "39.63275582053956",
         "-0.8416991620343462",
         "19.675508966119608",
         "-0.0047570687904218145",
         "-0.0039052051570107604",
         "5.370857725983669e-05",
         "0.012248199895763947",
         "0.44858519823325793",
         "22.588528888484564",
         "0.1254747474587686",
         "0.022337443588927332",
         "41.34315584222692",
         "9.997557042727296",
         "33.70021637604834",
         "-0.2829581993569196",
         "18.375226435987006",
         "-0.006633894907650428",
         "-0.0039718619897592955",
         "0.005507246376811548",
         "0.010462299584828368",
         "0.4489741061079581",
         "26.640076972670773",
         "0.10892775062324443",
         "0.023111378268837794",
         "50.05081298059073",
         "7.88914869155781",
         "37.32896377960706",
         "-0.41741741741741817",
         "1.0043275990169744",
         "0.9871429387895069",
         "0.9898359718808939"
        ],
        [
         "2025-08-26 01:00:00",
         "18.496110041710015",
         "20.95519677472845",
         "-0.003219555682839048",
         "-0.013350860147453791",
         "-0.0074193155186964566",
         "-0.06740985476931849",
         "-0.08755621047824613",
         "-0.09615328231741271",
         "-0.09700616592983757",
         "-0.010164028119106105",
         "0.006011807428975002",
         "-0.05171387258654414",
         "-0.021602582669307813",
         "-0.009422028992791542",
         "0.12205415490756821",
         "0.16323540507059242",
         "-0.0036580560370452764",
         "-0.015986421499292858",
         "-0.009200896320289864",
         "-0.007786688370941652",
         "-0.0009436153229738231",
         "0.035723412488834816",
         "-0.06707249233116641",
         "0.009705366239584734",
         "-0.036307884228272025",
         "0.003615158073708491",
         "-0.0016481744426154465",
         "0.12311394243309359",
         "-0.06505791066511935",
         "-0.06671907845663527",
         "0.01015687001945805",
         "-0.9252207596120663",
         "2.0179375054582485",
         "0.012168920822766882",
         "0.7406665775078559",
         "True",
         "False",
         "False",
         "False",
         "False",
         "False",
         "False",
         "False",
         "False",
         "False",
         "False",
         "24.04884872071242",
         "15.053588285905734",
         "0.013932337209856259",
         "-0.0049439356875580045",
         "0.1079219040711717",
         "0.010362776386966225",
         "0.9937007873377038",
         "0.999375445728143",
         "1.0085218861698872",
         "46.64619261669316",
         "38.47912367776695",
         "9.545070242632876",
         "24.804005063002464",
         "-0.7642543859648995",
         "0",
         "0",
         "0",
         "0",
         "0",
         "0",
         "0",
         "0",
         "0",
         "0",
         "17.502256575980965",
         "-0.0015607576735725548",
         "-0.010762828899549381",
         "-0.00874093563790812",
         "0.005055492906465397",
         "0.8452179492321468",
         "26.161156309498534",
         "0.04247241449620161",
         "0.0011203660821159464",
         "46.235689820976766",
         "10.448622716093665",
         "38.90661392592367",
         "-0.9325657894736715",
         "15.962898986386367",
         "-0.0020408163265306367",
         "-0.006788176813298463",
         "-0.0024158479626349427",
         "0.011435741330061993",
         "0.9005373360794986",
         "22.07062069745243",
         "0.12673445627414243",
         "0.023162705558983806",
         "42.418081085975444",
         "9.822651507146665",
         "33.11063690485905",
         "-0.5781250000000194",
         "14.609605713037666",
         "-0.002450273854136542",
         "-0.00906791390254369",
         "0.0012055164432442922",
         "0.010064340382994048",
         "0.8591508070277256",
         "25.97689748184852",
         "0.111675874757088",
         "0.021080739740636595",
         "51.30543231520924",
         "7.737095634479976",
         "36.609496663172706",
         "-0.6799999999999763",
         "1.0001039311375377",
         "0.9958912556960038",
         "0.996780444317161"
        ]
       ],
       "shape": {
        "columns": 112,
        "rows": 5
       }
      },
      "text/html": [
       "<div>\n",
       "<style scoped>\n",
       "    .dataframe tbody tr th:only-of-type {\n",
       "        vertical-align: middle;\n",
       "    }\n",
       "\n",
       "    .dataframe tbody tr th {\n",
       "        vertical-align: top;\n",
       "    }\n",
       "\n",
       "    .dataframe thead th {\n",
       "        text-align: right;\n",
       "    }\n",
       "</style>\n",
       "<table border=\"1\" class=\"dataframe\">\n",
       "  <thead>\n",
       "    <tr style=\"text-align: right;\">\n",
       "      <th></th>\n",
       "      <th>log_dollar_vol</th>\n",
       "      <th>log_dollar_vol_3d</th>\n",
       "      <th>return_1h</th>\n",
       "      <th>return_2h</th>\n",
       "      <th>return_4h</th>\n",
       "      <th>return_12h</th>\n",
       "      <th>return_24h</th>\n",
       "      <th>return_48h</th>\n",
       "      <th>return_72h</th>\n",
       "      <th>return_1h_lag1</th>\n",
       "      <th>...</th>\n",
       "      <th>DOGE_rsi</th>\n",
       "      <th>DOGE_bb_high</th>\n",
       "      <th>DOGE_bb_low</th>\n",
       "      <th>DOGE_adx</th>\n",
       "      <th>DOGE_plus_di</th>\n",
       "      <th>DOGE_minus_di</th>\n",
       "      <th>DOGE_bop</th>\n",
       "      <th>high_norm</th>\n",
       "      <th>low_norm</th>\n",
       "      <th>close_norm</th>\n",
       "    </tr>\n",
       "    <tr>\n",
       "      <th>datetime</th>\n",
       "      <th></th>\n",
       "      <th></th>\n",
       "      <th></th>\n",
       "      <th></th>\n",
       "      <th></th>\n",
       "      <th></th>\n",
       "      <th></th>\n",
       "      <th></th>\n",
       "      <th></th>\n",
       "      <th></th>\n",
       "      <th></th>\n",
       "      <th></th>\n",
       "      <th></th>\n",
       "      <th></th>\n",
       "      <th></th>\n",
       "      <th></th>\n",
       "      <th></th>\n",
       "      <th></th>\n",
       "      <th></th>\n",
       "      <th></th>\n",
       "      <th></th>\n",
       "    </tr>\n",
       "  </thead>\n",
       "  <tbody>\n",
       "    <tr>\n",
       "      <th>2025-08-25 21:00:00</th>\n",
       "      <td>21.225306</td>\n",
       "      <td>20.958404</td>\n",
       "      <td>-0.000228</td>\n",
       "      <td>-0.015986</td>\n",
       "      <td>-0.051714</td>\n",
       "      <td>-0.057042</td>\n",
       "      <td>-0.090911</td>\n",
       "      <td>-0.084339</td>\n",
       "      <td>-0.103640</td>\n",
       "      <td>-0.015762</td>\n",
       "      <td>...</td>\n",
       "      <td>21.323549</td>\n",
       "      <td>0.129622</td>\n",
       "      <td>-0.004492</td>\n",
       "      <td>45.828694</td>\n",
       "      <td>6.294771</td>\n",
       "      <td>41.899220</td>\n",
       "      <td>0.119741</td>\n",
       "      <td>1.008307</td>\n",
       "      <td>0.997195</td>\n",
       "      <td>0.999772</td>\n",
       "    </tr>\n",
       "    <tr>\n",
       "      <th>2025-08-25 22:00:00</th>\n",
       "      <td>20.899369</td>\n",
       "      <td>20.954401</td>\n",
       "      <td>0.009705</td>\n",
       "      <td>0.009476</td>\n",
       "      <td>-0.039935</td>\n",
       "      <td>-0.033550</td>\n",
       "      <td>-0.081398</td>\n",
       "      <td>-0.081665</td>\n",
       "      <td>-0.087231</td>\n",
       "      <td>-0.000228</td>\n",
       "      <td>...</td>\n",
       "      <td>26.608483</td>\n",
       "      <td>0.125200</td>\n",
       "      <td>0.003306</td>\n",
       "      <td>47.414647</td>\n",
       "      <td>8.329550</td>\n",
       "      <td>39.078427</td>\n",
       "      <td>0.542662</td>\n",
       "      <td>1.015333</td>\n",
       "      <td>1.000000</td>\n",
       "      <td>1.009705</td>\n",
       "    </tr>\n",
       "    <tr>\n",
       "      <th>2025-08-25 23:00:00</th>\n",
       "      <td>20.676289</td>\n",
       "      <td>20.957177</td>\n",
       "      <td>-0.003658</td>\n",
       "      <td>0.006012</td>\n",
       "      <td>-0.010071</td>\n",
       "      <td>-0.048662</td>\n",
       "      <td>-0.084563</td>\n",
       "      <td>-0.084360</td>\n",
       "      <td>-0.094428</td>\n",
       "      <td>0.009705</td>\n",
       "      <td>...</td>\n",
       "      <td>28.455001</td>\n",
       "      <td>0.113302</td>\n",
       "      <td>0.014964</td>\n",
       "      <td>48.682137</td>\n",
       "      <td>8.575027</td>\n",
       "      <td>37.310830</td>\n",
       "      <td>0.291005</td>\n",
       "      <td>1.000000</td>\n",
       "      <td>0.991253</td>\n",
       "      <td>0.996344</td>\n",
       "    </tr>\n",
       "    <tr>\n",
       "      <th>2025-08-26 00:00:00</th>\n",
       "      <td>21.417028</td>\n",
       "      <td>20.969658</td>\n",
       "      <td>-0.010164</td>\n",
       "      <td>-0.013785</td>\n",
       "      <td>-0.004440</td>\n",
       "      <td>-0.067826</td>\n",
       "      <td>-0.078572</td>\n",
       "      <td>-0.097359</td>\n",
       "      <td>-0.099281</td>\n",
       "      <td>-0.003658</td>\n",
       "      <td>...</td>\n",
       "      <td>26.640077</td>\n",
       "      <td>0.108928</td>\n",
       "      <td>0.023111</td>\n",
       "      <td>50.050813</td>\n",
       "      <td>7.889149</td>\n",
       "      <td>37.328964</td>\n",
       "      <td>-0.417417</td>\n",
       "      <td>1.004328</td>\n",
       "      <td>0.987143</td>\n",
       "      <td>0.989836</td>\n",
       "    </tr>\n",
       "    <tr>\n",
       "      <th>2025-08-26 01:00:00</th>\n",
       "      <td>18.496110</td>\n",
       "      <td>20.955197</td>\n",
       "      <td>-0.003220</td>\n",
       "      <td>-0.013351</td>\n",
       "      <td>-0.007419</td>\n",
       "      <td>-0.067410</td>\n",
       "      <td>-0.087556</td>\n",
       "      <td>-0.096153</td>\n",
       "      <td>-0.097006</td>\n",
       "      <td>-0.010164</td>\n",
       "      <td>...</td>\n",
       "      <td>25.976897</td>\n",
       "      <td>0.111676</td>\n",
       "      <td>0.021081</td>\n",
       "      <td>51.305432</td>\n",
       "      <td>7.737096</td>\n",
       "      <td>36.609497</td>\n",
       "      <td>-0.680000</td>\n",
       "      <td>1.000104</td>\n",
       "      <td>0.995891</td>\n",
       "      <td>0.996780</td>\n",
       "    </tr>\n",
       "  </tbody>\n",
       "</table>\n",
       "<p>5 rows × 112 columns</p>\n",
       "</div>"
      ],
      "text/plain": [
       "                     log_dollar_vol  log_dollar_vol_3d  return_1h  return_2h  \\\n",
       "datetime                                                                       \n",
       "2025-08-25 21:00:00       21.225306          20.958404  -0.000228  -0.015986   \n",
       "2025-08-25 22:00:00       20.899369          20.954401   0.009705   0.009476   \n",
       "2025-08-25 23:00:00       20.676289          20.957177  -0.003658   0.006012   \n",
       "2025-08-26 00:00:00       21.417028          20.969658  -0.010164  -0.013785   \n",
       "2025-08-26 01:00:00       18.496110          20.955197  -0.003220  -0.013351   \n",
       "\n",
       "                     return_4h  return_12h  return_24h  return_48h  \\\n",
       "datetime                                                             \n",
       "2025-08-25 21:00:00  -0.051714   -0.057042   -0.090911   -0.084339   \n",
       "2025-08-25 22:00:00  -0.039935   -0.033550   -0.081398   -0.081665   \n",
       "2025-08-25 23:00:00  -0.010071   -0.048662   -0.084563   -0.084360   \n",
       "2025-08-26 00:00:00  -0.004440   -0.067826   -0.078572   -0.097359   \n",
       "2025-08-26 01:00:00  -0.007419   -0.067410   -0.087556   -0.096153   \n",
       "\n",
       "                     return_72h  return_1h_lag1  ...   DOGE_rsi  DOGE_bb_high  \\\n",
       "datetime                                         ...                            \n",
       "2025-08-25 21:00:00   -0.103640       -0.015762  ...  21.323549      0.129622   \n",
       "2025-08-25 22:00:00   -0.087231       -0.000228  ...  26.608483      0.125200   \n",
       "2025-08-25 23:00:00   -0.094428        0.009705  ...  28.455001      0.113302   \n",
       "2025-08-26 00:00:00   -0.099281       -0.003658  ...  26.640077      0.108928   \n",
       "2025-08-26 01:00:00   -0.097006       -0.010164  ...  25.976897      0.111676   \n",
       "\n",
       "                     DOGE_bb_low   DOGE_adx  DOGE_plus_di  DOGE_minus_di  \\\n",
       "datetime                                                                   \n",
       "2025-08-25 21:00:00    -0.004492  45.828694      6.294771      41.899220   \n",
       "2025-08-25 22:00:00     0.003306  47.414647      8.329550      39.078427   \n",
       "2025-08-25 23:00:00     0.014964  48.682137      8.575027      37.310830   \n",
       "2025-08-26 00:00:00     0.023111  50.050813      7.889149      37.328964   \n",
       "2025-08-26 01:00:00     0.021081  51.305432      7.737096      36.609497   \n",
       "\n",
       "                     DOGE_bop  high_norm  low_norm  close_norm  \n",
       "datetime                                                        \n",
       "2025-08-25 21:00:00  0.119741   1.008307  0.997195    0.999772  \n",
       "2025-08-25 22:00:00  0.542662   1.015333  1.000000    1.009705  \n",
       "2025-08-25 23:00:00  0.291005   1.000000  0.991253    0.996344  \n",
       "2025-08-26 00:00:00 -0.417417   1.004328  0.987143    0.989836  \n",
       "2025-08-26 01:00:00 -0.680000   1.000104  0.995891    0.996780  \n",
       "\n",
       "[5 rows x 112 columns]"
      ]
     },
     "execution_count": 15,
     "metadata": {},
     "output_type": "execute_result"
    }
   ],
   "source": [
    "X.tail(5)"
   ]
  },
  {
   "cell_type": "code",
   "execution_count": 16,
   "id": "20b4d315",
   "metadata": {},
   "outputs": [
    {
     "data": {
      "application/vnd.microsoft.datawrangler.viewer.v0+json": {
       "columns": [
        {
         "name": "datetime",
         "rawType": "datetime64[ns]",
         "type": "datetime"
        },
        {
         "name": "log_dollar_vol",
         "rawType": "float64",
         "type": "float"
        },
        {
         "name": "log_dollar_vol_3d",
         "rawType": "float64",
         "type": "float"
        },
        {
         "name": "return_1h",
         "rawType": "float64",
         "type": "float"
        },
        {
         "name": "return_2h",
         "rawType": "float64",
         "type": "float"
        },
        {
         "name": "return_4h",
         "rawType": "float64",
         "type": "float"
        },
        {
         "name": "return_12h",
         "rawType": "float64",
         "type": "float"
        },
        {
         "name": "return_24h",
         "rawType": "float64",
         "type": "float"
        },
        {
         "name": "return_48h",
         "rawType": "float64",
         "type": "float"
        },
        {
         "name": "return_72h",
         "rawType": "float64",
         "type": "float"
        },
        {
         "name": "return_1h_lag1",
         "rawType": "float64",
         "type": "float"
        },
        {
         "name": "return_2h_lag1",
         "rawType": "float64",
         "type": "float"
        },
        {
         "name": "return_4h_lag1",
         "rawType": "float64",
         "type": "float"
        },
        {
         "name": "return_12h_lag1",
         "rawType": "float64",
         "type": "float"
        },
        {
         "name": "return_24h_lag1",
         "rawType": "float64",
         "type": "float"
        },
        {
         "name": "return_48h_lag1",
         "rawType": "float64",
         "type": "float"
        },
        {
         "name": "return_72h_lag1",
         "rawType": "float64",
         "type": "float"
        },
        {
         "name": "return_1h_lag2",
         "rawType": "float64",
         "type": "float"
        },
        {
         "name": "return_2h_lag2",
         "rawType": "float64",
         "type": "float"
        },
        {
         "name": "return_4h_lag2",
         "rawType": "float64",
         "type": "float"
        },
        {
         "name": "return_12h_lag2",
         "rawType": "float64",
         "type": "float"
        },
        {
         "name": "return_24h_lag2",
         "rawType": "float64",
         "type": "float"
        },
        {
         "name": "return_48h_lag2",
         "rawType": "float64",
         "type": "float"
        },
        {
         "name": "return_72h_lag2",
         "rawType": "float64",
         "type": "float"
        },
        {
         "name": "return_1h_lag3",
         "rawType": "float64",
         "type": "float"
        },
        {
         "name": "return_2h_lag3",
         "rawType": "float64",
         "type": "float"
        },
        {
         "name": "return_4h_lag3",
         "rawType": "float64",
         "type": "float"
        },
        {
         "name": "return_12h_lag3",
         "rawType": "float64",
         "type": "float"
        },
        {
         "name": "return_24h_lag3",
         "rawType": "float64",
         "type": "float"
        },
        {
         "name": "return_48h_lag3",
         "rawType": "float64",
         "type": "float"
        },
        {
         "name": "return_72h_lag3",
         "rawType": "float64",
         "type": "float"
        },
        {
         "name": "std_ret",
         "rawType": "float64",
         "type": "float"
        },
        {
         "name": "skew_ret",
         "rawType": "float64",
         "type": "float"
        },
        {
         "name": "kurtosis_ret",
         "rawType": "float64",
         "type": "float"
        },
        {
         "name": "max_ret",
         "rawType": "float64",
         "type": "float"
        },
        {
         "name": "std_dollar_vol",
         "rawType": "float64",
         "type": "float"
        },
        {
         "name": "weekday_1",
         "rawType": "bool",
         "type": "boolean"
        },
        {
         "name": "weekday_2",
         "rawType": "bool",
         "type": "boolean"
        },
        {
         "name": "weekday_3",
         "rawType": "bool",
         "type": "boolean"
        },
        {
         "name": "weekday_4",
         "rawType": "bool",
         "type": "boolean"
        },
        {
         "name": "weekday_5",
         "rawType": "bool",
         "type": "boolean"
        },
        {
         "name": "weekday_6",
         "rawType": "bool",
         "type": "boolean"
        },
        {
         "name": "hour_bin_1",
         "rawType": "bool",
         "type": "boolean"
        },
        {
         "name": "hour_bin_2",
         "rawType": "bool",
         "type": "boolean"
        },
        {
         "name": "hour_bin_3",
         "rawType": "bool",
         "type": "boolean"
        },
        {
         "name": "hour_bin_4",
         "rawType": "bool",
         "type": "boolean"
        },
        {
         "name": "hour_bin_5",
         "rawType": "bool",
         "type": "boolean"
        },
        {
         "name": "rsi",
         "rawType": "float64",
         "type": "float"
        },
        {
         "name": "mfi",
         "rawType": "float64",
         "type": "float"
        },
        {
         "name": "atr_norm",
         "rawType": "float64",
         "type": "float"
        },
        {
         "name": "macdhist_norm",
         "rawType": "float64",
         "type": "float"
        },
        {
         "name": "bb_high",
         "rawType": "float64",
         "type": "float"
        },
        {
         "name": "bb_low",
         "rawType": "float64",
         "type": "float"
        },
        {
         "name": "tema_12_norm",
         "rawType": "float64",
         "type": "float"
        },
        {
         "name": "tema_24_norm",
         "rawType": "float64",
         "type": "float"
        },
        {
         "name": "tema_36_norm",
         "rawType": "float64",
         "type": "float"
        },
        {
         "name": "adx",
         "rawType": "float64",
         "type": "float"
        },
        {
         "name": "minus_di",
         "rawType": "float64",
         "type": "float"
        },
        {
         "name": "plus_di",
         "rawType": "float64",
         "type": "float"
        },
        {
         "name": "ultosc",
         "rawType": "float64",
         "type": "float"
        },
        {
         "name": "bop",
         "rawType": "float64",
         "type": "float"
        },
        {
         "name": "CDLENGULFING",
         "rawType": "int32",
         "type": "integer"
        },
        {
         "name": "CDLHAMMER",
         "rawType": "int32",
         "type": "integer"
        },
        {
         "name": "CDLHANGINGMAN",
         "rawType": "int32",
         "type": "integer"
        },
        {
         "name": "CDLDOJI",
         "rawType": "int32",
         "type": "integer"
        },
        {
         "name": "CDLDRAGONFLYDOJI",
         "rawType": "int32",
         "type": "integer"
        },
        {
         "name": "CDLGRAVESTONEDOJI",
         "rawType": "int32",
         "type": "integer"
        },
        {
         "name": "CDLMORNINGSTAR",
         "rawType": "int32",
         "type": "integer"
        },
        {
         "name": "CDLEVENINGSTAR",
         "rawType": "int32",
         "type": "integer"
        },
        {
         "name": "CDLSHOOTINGSTAR",
         "rawType": "int32",
         "type": "integer"
        },
        {
         "name": "CDLMARUBOZU",
         "rawType": "int32",
         "type": "integer"
        },
        {
         "name": "BTC_log_dollar_vol",
         "rawType": "float64",
         "type": "float"
        },
        {
         "name": "BTC_return_1h",
         "rawType": "float64",
         "type": "float"
        },
        {
         "name": "BTC_return_2h",
         "rawType": "float64",
         "type": "float"
        },
        {
         "name": "BTC_return_4h",
         "rawType": "float64",
         "type": "float"
        },
        {
         "name": "BTC_std_ret",
         "rawType": "float64",
         "type": "float"
        },
        {
         "name": "BTC_std_dollar_vol",
         "rawType": "float64",
         "type": "float"
        },
        {
         "name": "BTC_rsi",
         "rawType": "float64",
         "type": "float"
        },
        {
         "name": "BTC_bb_high",
         "rawType": "float64",
         "type": "float"
        },
        {
         "name": "BTC_bb_low",
         "rawType": "float64",
         "type": "float"
        },
        {
         "name": "BTC_adx",
         "rawType": "float64",
         "type": "float"
        },
        {
         "name": "BTC_plus_di",
         "rawType": "float64",
         "type": "float"
        },
        {
         "name": "BTC_minus_di",
         "rawType": "float64",
         "type": "float"
        },
        {
         "name": "BTC_bop",
         "rawType": "float64",
         "type": "float"
        },
        {
         "name": "SOL_log_dollar_vol",
         "rawType": "float64",
         "type": "float"
        },
        {
         "name": "SOL_return_1h",
         "rawType": "float64",
         "type": "float"
        },
        {
         "name": "SOL_return_2h",
         "rawType": "float64",
         "type": "float"
        },
        {
         "name": "SOL_return_4h",
         "rawType": "float64",
         "type": "float"
        },
        {
         "name": "SOL_std_ret",
         "rawType": "float64",
         "type": "float"
        },
        {
         "name": "SOL_std_dollar_vol",
         "rawType": "float64",
         "type": "float"
        },
        {
         "name": "SOL_rsi",
         "rawType": "float64",
         "type": "float"
        },
        {
         "name": "SOL_bb_high",
         "rawType": "float64",
         "type": "float"
        },
        {
         "name": "SOL_bb_low",
         "rawType": "float64",
         "type": "float"
        },
        {
         "name": "SOL_adx",
         "rawType": "float64",
         "type": "float"
        },
        {
         "name": "SOL_plus_di",
         "rawType": "float64",
         "type": "float"
        },
        {
         "name": "SOL_minus_di",
         "rawType": "float64",
         "type": "float"
        },
        {
         "name": "SOL_bop",
         "rawType": "float64",
         "type": "float"
        },
        {
         "name": "DOGE_log_dollar_vol",
         "rawType": "float64",
         "type": "float"
        },
        {
         "name": "DOGE_return_1h",
         "rawType": "float64",
         "type": "float"
        },
        {
         "name": "DOGE_return_2h",
         "rawType": "float64",
         "type": "float"
        },
        {
         "name": "DOGE_return_4h",
         "rawType": "float64",
         "type": "float"
        },
        {
         "name": "DOGE_std_ret",
         "rawType": "float64",
         "type": "float"
        },
        {
         "name": "DOGE_std_dollar_vol",
         "rawType": "float64",
         "type": "float"
        },
        {
         "name": "DOGE_rsi",
         "rawType": "float64",
         "type": "float"
        },
        {
         "name": "DOGE_bb_high",
         "rawType": "float64",
         "type": "float"
        },
        {
         "name": "DOGE_bb_low",
         "rawType": "float64",
         "type": "float"
        },
        {
         "name": "DOGE_adx",
         "rawType": "float64",
         "type": "float"
        },
        {
         "name": "DOGE_plus_di",
         "rawType": "float64",
         "type": "float"
        },
        {
         "name": "DOGE_minus_di",
         "rawType": "float64",
         "type": "float"
        },
        {
         "name": "DOGE_bop",
         "rawType": "float64",
         "type": "float"
        },
        {
         "name": "high_norm",
         "rawType": "float64",
         "type": "float"
        },
        {
         "name": "low_norm",
         "rawType": "float64",
         "type": "float"
        },
        {
         "name": "close_norm",
         "rawType": "float64",
         "type": "float"
        }
       ],
       "ref": "90fbca51-e029-4f56-a52f-a34d90c34ed4",
       "rows": [
        [
         "2025-08-25 20:00:00",
         "22.259343422444022",
         "20.966946178781075",
         "-0.015762376237623665",
         "-0.04894673655621229",
         "-0.053263325627261104",
         "-0.054078743034621235",
         "-0.09102689236158279",
         "-0.08444240477283149",
         "-0.10294912359587638",
         "-0.03371580146645592",
         "-0.0045387458694146066",
         "-0.010990714407201119",
         "-0.03906049161586167",
         "0.007243875020525259",
         "0.12017110705510059",
         "0.16604014093822528",
         "-0.002682526285486042",
         "-0.013695983098482634",
         "0.010241988455197637",
         "0.001907645659530166",
         "-0.020213604168127675",
         "0.019906923049171965",
         "-0.06138679573251926",
         "-0.0018612123349398546",
         "0.002742834506322067",
         "-0.02521275648446153",
         "0.005326069108378073",
         "0.14328093533492758",
         "-0.0688823497796408",
         "-0.06081075350888365",
         "0.0103047950190233",
         "-0.9713374215701988",
         "1.6610621718154996",
         "0.012168920822766882",
         "0.5243950998860136",
         "False",
         "False",
         "False",
         "False",
         "False",
         "False",
         "False",
         "False",
         "False",
         "False",
         "True",
         "21.550156544122505",
         "36.48525331224157",
         "0.014264388342470862",
         "-0.005066503552696017",
         "0.09257931796969177",
         "-0.002117908549157934",
         "1.0040787268499594",
         "1.0119333697160646",
         "1.019560107242865",
         "39.598649745768576",
         "46.11334053745974",
         "8.959556886363334",
         "29.739645133760717",
         "-0.6162759840778413",
         "0",
         "0",
         "0",
         "0",
         "0",
         "0",
         "0",
         "0",
         "0",
         "0",
         "22.060172431202666",
         "-0.010386767693564503",
         "-0.02540247358377712",
         "-0.026190325853898022",
         "0.005099123353163376",
         "0.5542689817903604",
         "25.405485006788897",
         "0.029445072503938192",
         "0.003982413977235708",
         "41.85605211357839",
         "11.562625797990338",
         "41.638502484195484",
         "-0.6647194910352737",
         "20.5594569725719",
         "-0.027322118900846237",
         "-0.05193747135801208",
         "-0.051840912563018815",
         "0.012513948018377566",
         "0.4274988167780729",
         "20.156052950555072",
         "0.10267128581010888",
         "0.013122802977090042",
         "33.12925207069208",
         "9.713260473724315",
         "41.66521914065635",
         "-0.8879456706281794",
         "19.467660506209018",
         "-0.031352363125877414",
         "-0.04858206554212452",
         "-0.05050227053804879",
         "0.010619774854322164",
         "0.45154181915780567",
         "20.06247039569742",
         "0.09955694691303248",
         "0.01874583248295218",
         "43.27881463882641",
         "6.7669763002864345",
         "42.63890246040869",
         "-0.8558673469387768",
         "1.0057549951683387",
         "0.9801709525501439",
         "0.9842331689587827"
        ],
        [
         "2025-08-25 21:00:00",
         "21.225306443467936",
         "20.958404463527337",
         "-0.00022763330344222066",
         "-0.015986421499292858",
         "-0.05171387258654414",
         "-0.05704229322900645",
         "-0.09091080153796949",
         "-0.08433854188602974",
         "-0.10363956832307752",
         "-0.015762376237623665",
         "-0.036307884228272025",
         "-0.009200896320289864",
         "-0.035917314282249535",
         "0.007229499220823055",
         "0.11942743853710192",
         "0.1682489451476794",
         "-0.03371580146645592",
         "-0.005439981259394933",
         "0.003615158073708491",
         "0.0025698696409519606",
         "-0.02107878000762753",
         "0.021614839219312953",
         "-0.057681877083612276",
         "-0.002682526285486042",
         "-0.0037814862753656753",
         "-0.019630187925085085",
         "0.004647685633660359",
         "0.14353169149385092",
         "-0.07163139278543673",
         "-0.0665196455392646",
         "0.010306746569045214",
         "-0.9722567582083349",
         "1.6597128782232284",
         "0.012168920822766882",
         "0.5241262666007989",
         "False",
         "False",
         "False",
         "False",
         "False",
         "False",
         "False",
         "False",
         "False",
         "False",
         "True",
         "21.50390619829327",
         "31.06445398295432",
         "0.014352051567655563",
         "-0.006132677824228621",
         "0.10902646048276904",
         "-0.009261696578180465",
         "1.0082721173676124",
         "1.0186417597184523",
         "1.0277773843578748",
         "41.920672103592345",
         "43.4060032874203",
         "8.433536827534713",
         "26.447090603500516",
         "-0.02048417132217448",
         "0",
         "0",
         "0",
         "100",
         "0",
         "0",
         "0",
         "0",
         "0",
         "0",
         "21.03827985434314",
         "0.0030903799139916366",
         "-0.007328486837824277",
         "-0.022670690842567676",
         "0.00513784372680271",
         "0.563220197041893",
         "29.955010653595615",
         "0.040201153554885606",
         "-0.0037777668902330645",
         "43.147359451159495",
         "10.48063244421236",
         "38.668535585856105",
         "0.3310506750146695",
         "19.66914615423599",
         "0.00042966861807847145",
         "-0.02690418973983899",
         "-0.05273596419853532",
         "0.012455861506452162",
         "0.42286100996311726",
         "20.462127206143883",
         "0.1323344045544173",
         "-0.004038217866399408",
         "35.60109852144994",
         "9.120904611479776",
         "39.90489552746849",
         "0.02800000000000864",
         "18.602631014827566",
         "0.001835748792270664",
         "-0.029574169396349936",
         "-0.05058828915442015",
         "0.01059178482482189",
         "0.45588751628831226",
         "21.3235494578934",
         "0.12962191943473314",
         "-0.0044917480178689045",
         "45.82869367552715",
         "6.294770626525224",
         "41.89922024521201",
         "0.11974110032362721",
         "1.0083074659124875",
         "0.9971948219171781",
         "0.9997723666965578"
        ],
        [
         "2025-08-25 22:00:00",
         "20.899369401456386",
         "20.954401450374377",
         "0.009705366239584734",
         "0.009475523671564234",
         "-0.03993500884553225",
         "-0.03355038391096077",
         "-0.08139826838015285",
         "-0.08166535236250516",
         "-0.087230866466523",
         "-0.00022763330344222066",
         "-0.04894673655621229",
         "-0.018172566381181476",
         "-0.04950892801098061",
         "-0.00029075057574878826",
         "0.12450457612886079",
         "0.16449579221584165",
         "-0.015762376237623665",
         "-0.0045387458694146066",
         "0.02528220977740192",
         "0.008618761211353743",
         "-0.006060442256355825",
         "0.029287436689553692",
         "-0.06651660203039278",
         "-0.03371580146645592",
         "-0.013695983098482634",
         "-0.018662334660442204",
         "-0.008833379002788133",
         "0.13136112489738694",
         "-0.08619999247799259",
         "-0.0649676683149486",
         "0.010661085573330212",
         "-0.9147122905847809",
         "1.330248792907192",
         "0.012168920822766882",
         "0.5260844971925871",
         "False",
         "False",
         "False",
         "False",
         "False",
         "False",
         "False",
         "False",
         "False",
         "False",
         "True",
         "28.626935286773005",
         "37.51737703176297",
         "0.014396060126090118",
         "-0.005695409316277386",
         "0.1074352401321688",
         "-0.004027920558819527",
         "1.0044010925177158",
         "1.0131885825667375",
         "1.0223349770825076",
         "43.06903876680835",
         "39.88230850232437",
         "11.347022129896391",
         "27.39852413341775",
         "0.6329683515824311",
         "0",
         "0",
         "0",
         "0",
         "0",
         "0",
         "0",
         "0",
         "0",
         "0",
         "20.229328295447193",
         "0.0023434192617408645",
         "0.005441041231549093",
         "-0.02009964825838062",
         "0.005075782251901099",
         "0.5657292917826179",
         "33.329142234774615",
         "0.036223740131002116",
         "0.0009083360239729936",
         "43.57530401897765",
         "12.601300831330903",
         "36.13016594651929",
         "0.36561433447097885",
         "19.46501549132201",
         "0.003543243678531205",
         "0.003974434717224362",
         "-0.04816945873007783",
         "0.012453889396941652",
         "0.42671899324046775",
         "23.114719576254583",
         "0.13192967759052773",
         "0.004578704935462153",
         "37.98513935640162",
         "8.384592244478533",
         "38.469254373368415",
         "0.1969696969696997",
         "17.985880579926757",
         "0.007667084579033645",
         "0.009516908212560349",
         "-0.03952750838810504",
         "0.010868770604383323",
         "0.4548921664523949",
         "26.608483173230002",
         "0.12519969207560389",
         "0.0033061161367030838",
         "47.41464693872043",
         "8.32955000159573",
         "39.07842659780753",
         "0.5426621160409512",
         "1.0153330987486517",
         "1.0",
         "1.0097053662395847"
        ],
        [
         "2025-08-25 23:00:00",
         "20.676289066311476",
         "20.957177468702046",
         "-0.0036580560370452764",
         "0.006011807428975002",
         "-0.010070721357850032",
         "-0.04866246193997392",
         "-0.08456319375847576",
         "-0.08436007251018374",
         "-0.09442754902833528",
         "0.009705366239584734",
         "-0.015986421499292858",
         "-0.04155035127789675",
         "-0.03773711262535784",
         "0.00022188451120497277",
         "0.1310604446338519",
         "0.18567529222325319",
         "-0.00022763330344222066",
         "-0.036307884228272025",
         "0.0026772509786865406",
         "0.006820552260348167",
         "-0.010995016944871705",
         "0.03676048248133257",
         "-0.07833999212708875",
         "-0.015762376237623665",
         "-0.005439981259394933",
         "0.0018302248561965495",
         "-0.00655396608097536",
         "0.1436347278452541",
         "-0.08873857551234043",
         "-0.069107925456525",
         "0.01063841052237068",
         "-0.8777861833396786",
         "1.3126956115463777",
         "0.012168920822766882",
         "0.5157818256742468",
         "False",
         "False",
         "False",
         "False",
         "False",
         "False",
         "False",
         "False",
         "False",
         "False",
         "True",
         "27.587607907550478",
         "32.606933929641855",
         "0.014028179726533835",
         "-0.0051791202243626905",
         "0.0953816446138347",
         "0.010601601341394706",
         "0.9910235875164276",
         "0.9981053990608647",
         "1.0070239395182587",
         "44.12170820808968",
         "37.946244549782584",
         "10.796187402937045",
         "28.743713606139742",
         "-0.4179687499999988",
         "0",
         "0",
         "0",
         "0",
         "0",
         "0",
         "0",
         "0",
         "0",
         "0",
         "19.891207983950217",
         "-0.0002988276690805147",
         "0.00204389131414473",
         "-0.005299574154273179",
         "0.005068048593446436",
         "0.5681129432202168",
         "33.1067714706245",
         "0.0326250114644658",
         "0.004486597938232326",
         "44.06421848207742",
         "12.000295081957029",
         "35.471365058737774",
         "-0.06666666666667258",
         "19.027597691419967",
         "0.0008559353768791134",
         "0.004402211843023585",
         "-0.02262041583951513",
         "0.012370735992010424",
         "0.4518937075159842",
         "23.786907547287555",
         "0.12693664955591133",
         "0.014584990305060814",
         "40.17051012177399",
         "7.9779402125515295",
         "36.60349871089732",
         "0.08900523560210273",
         "17.672046370886694",
         "0.0026798104991148097",
         "0.010367441411900824",
         "-0.019513336452971486",
         "0.0108929262107801",
         "0.45427760831589276",
         "28.455001110794107",
         "0.11330240245042296",
         "0.014963640052660458",
         "48.68213734282508",
         "8.575027048938852",
         "37.310830488921944",
         "0.2910052910052879",
         "1.0",
         "0.9912534450948681",
         "0.9963442133794956"
        ],
        [
         "2025-08-26 00:00:00",
         "21.417027510326676",
         "20.96965793979036",
         "-0.010164028119106105",
         "-0.013784903571729679",
         "-0.0044399990802695966",
         "-0.06782594842007139",
         "-0.07857203660353262",
         "-0.09735865577051372",
         "-0.09928147050991876",
         "-0.0036580560370452764",
         "0.009475523671564234",
         "-0.053263325627261104",
         "-0.011527984677590974",
         "-0.02038859239492996",
         "0.130174587093278",
         "0.17167147648389358",
         "0.009705366239584734",
         "-0.04894673655621229",
         "-0.010990714407201119",
         "-0.011446519446039805",
         "-0.0021302090267607543",
         "0.03450881366508063",
         "-0.06988258818355142",
         "-0.00022763330344222066",
         "-0.0045387458694146066",
         "0.010241988455197637",
         "-0.009045613742495018",
         "0.13258723464411082",
         "-0.08033650817845772",
         "-0.06444175786883855",
         "0.010374844582766314",
         "-0.9500284116943774",
         "1.7961678346014176",
         "0.012168920822766882",
         "0.5117443450774011",
         "True",
         "False",
         "False",
         "False",
         "False",
         "False",
         "False",
         "False",
         "False",
         "False",
         "False",
         "24.861645514658946",
         "25.07309656225449",
         "0.014209027275420878",
         "-0.005144595275305636",
         "0.09913332182189286",
         "0.014060844396463084",
         "0.9885895352927122",
         "0.9952162726222266",
         "1.0043439877311475",
         "45.4095819337835",
         "38.61657860233628",
         "9.782343438075184",
         "27.181302635819105",
         "-0.5914593587867499",
         "0",
         "0",
         "0",
         "0",
         "0",
         "0",
         "0",
         "0",
         "0",
         "0",
         "21.3028839871948",
         "-0.009216455880215135",
         "-0.009512529417267768",
         "-0.004123246250494317",
         "0.005172702348630271",
         "0.5871997124554591",
         "27.03880754934881",
         "0.03347585364134938",
         "0.007432923805109619",
         "45.19716005019882",
         "10.643632816680586",
         "39.63275582053956",
         "-0.8416991620343462",
         "19.675508966119608",
         "-0.0047570687904218145",
         "-0.0039052051570107604",
         "5.370857725983669e-05",
         "0.012248199895763947",
         "0.44858519823325793",
         "22.588528888484564",
         "0.1254747474587686",
         "0.022337443588927332",
         "41.34315584222692",
         "9.997557042727296",
         "33.70021637604834",
         "-0.2829581993569196",
         "18.375226435987006",
         "-0.006633894907650428",
         "-0.0039718619897592955",
         "0.005507246376811548",
         "0.010462299584828368",
         "0.4489741061079581",
         "26.640076972670773",
         "0.10892775062324443",
         "0.023111378268837794",
         "50.05081298059073",
         "7.88914869155781",
         "37.32896377960706",
         "-0.41741741741741817",
         "1.0043275990169744",
         "0.9871429387895069",
         "0.9898359718808939"
        ]
       ],
       "shape": {
        "columns": 112,
        "rows": 5
       }
      },
      "text/html": [
       "<div>\n",
       "<style scoped>\n",
       "    .dataframe tbody tr th:only-of-type {\n",
       "        vertical-align: middle;\n",
       "    }\n",
       "\n",
       "    .dataframe tbody tr th {\n",
       "        vertical-align: top;\n",
       "    }\n",
       "\n",
       "    .dataframe thead th {\n",
       "        text-align: right;\n",
       "    }\n",
       "</style>\n",
       "<table border=\"1\" class=\"dataframe\">\n",
       "  <thead>\n",
       "    <tr style=\"text-align: right;\">\n",
       "      <th></th>\n",
       "      <th>log_dollar_vol</th>\n",
       "      <th>log_dollar_vol_3d</th>\n",
       "      <th>return_1h</th>\n",
       "      <th>return_2h</th>\n",
       "      <th>return_4h</th>\n",
       "      <th>return_12h</th>\n",
       "      <th>return_24h</th>\n",
       "      <th>return_48h</th>\n",
       "      <th>return_72h</th>\n",
       "      <th>return_1h_lag1</th>\n",
       "      <th>...</th>\n",
       "      <th>DOGE_rsi</th>\n",
       "      <th>DOGE_bb_high</th>\n",
       "      <th>DOGE_bb_low</th>\n",
       "      <th>DOGE_adx</th>\n",
       "      <th>DOGE_plus_di</th>\n",
       "      <th>DOGE_minus_di</th>\n",
       "      <th>DOGE_bop</th>\n",
       "      <th>high_norm</th>\n",
       "      <th>low_norm</th>\n",
       "      <th>close_norm</th>\n",
       "    </tr>\n",
       "    <tr>\n",
       "      <th>datetime</th>\n",
       "      <th></th>\n",
       "      <th></th>\n",
       "      <th></th>\n",
       "      <th></th>\n",
       "      <th></th>\n",
       "      <th></th>\n",
       "      <th></th>\n",
       "      <th></th>\n",
       "      <th></th>\n",
       "      <th></th>\n",
       "      <th></th>\n",
       "      <th></th>\n",
       "      <th></th>\n",
       "      <th></th>\n",
       "      <th></th>\n",
       "      <th></th>\n",
       "      <th></th>\n",
       "      <th></th>\n",
       "      <th></th>\n",
       "      <th></th>\n",
       "      <th></th>\n",
       "    </tr>\n",
       "  </thead>\n",
       "  <tbody>\n",
       "    <tr>\n",
       "      <th>2025-08-25 20:00:00</th>\n",
       "      <td>22.259343</td>\n",
       "      <td>20.966946</td>\n",
       "      <td>-0.015762</td>\n",
       "      <td>-0.048947</td>\n",
       "      <td>-0.053263</td>\n",
       "      <td>-0.054079</td>\n",
       "      <td>-0.091027</td>\n",
       "      <td>-0.084442</td>\n",
       "      <td>-0.102949</td>\n",
       "      <td>-0.033716</td>\n",
       "      <td>...</td>\n",
       "      <td>20.062470</td>\n",
       "      <td>0.099557</td>\n",
       "      <td>0.018746</td>\n",
       "      <td>43.278815</td>\n",
       "      <td>6.766976</td>\n",
       "      <td>42.638902</td>\n",
       "      <td>-0.855867</td>\n",
       "      <td>1.005755</td>\n",
       "      <td>0.980171</td>\n",
       "      <td>0.984233</td>\n",
       "    </tr>\n",
       "    <tr>\n",
       "      <th>2025-08-25 21:00:00</th>\n",
       "      <td>21.225306</td>\n",
       "      <td>20.958404</td>\n",
       "      <td>-0.000228</td>\n",
       "      <td>-0.015986</td>\n",
       "      <td>-0.051714</td>\n",
       "      <td>-0.057042</td>\n",
       "      <td>-0.090911</td>\n",
       "      <td>-0.084339</td>\n",
       "      <td>-0.103640</td>\n",
       "      <td>-0.015762</td>\n",
       "      <td>...</td>\n",
       "      <td>21.323549</td>\n",
       "      <td>0.129622</td>\n",
       "      <td>-0.004492</td>\n",
       "      <td>45.828694</td>\n",
       "      <td>6.294771</td>\n",
       "      <td>41.899220</td>\n",
       "      <td>0.119741</td>\n",
       "      <td>1.008307</td>\n",
       "      <td>0.997195</td>\n",
       "      <td>0.999772</td>\n",
       "    </tr>\n",
       "    <tr>\n",
       "      <th>2025-08-25 22:00:00</th>\n",
       "      <td>20.899369</td>\n",
       "      <td>20.954401</td>\n",
       "      <td>0.009705</td>\n",
       "      <td>0.009476</td>\n",
       "      <td>-0.039935</td>\n",
       "      <td>-0.033550</td>\n",
       "      <td>-0.081398</td>\n",
       "      <td>-0.081665</td>\n",
       "      <td>-0.087231</td>\n",
       "      <td>-0.000228</td>\n",
       "      <td>...</td>\n",
       "      <td>26.608483</td>\n",
       "      <td>0.125200</td>\n",
       "      <td>0.003306</td>\n",
       "      <td>47.414647</td>\n",
       "      <td>8.329550</td>\n",
       "      <td>39.078427</td>\n",
       "      <td>0.542662</td>\n",
       "      <td>1.015333</td>\n",
       "      <td>1.000000</td>\n",
       "      <td>1.009705</td>\n",
       "    </tr>\n",
       "    <tr>\n",
       "      <th>2025-08-25 23:00:00</th>\n",
       "      <td>20.676289</td>\n",
       "      <td>20.957177</td>\n",
       "      <td>-0.003658</td>\n",
       "      <td>0.006012</td>\n",
       "      <td>-0.010071</td>\n",
       "      <td>-0.048662</td>\n",
       "      <td>-0.084563</td>\n",
       "      <td>-0.084360</td>\n",
       "      <td>-0.094428</td>\n",
       "      <td>0.009705</td>\n",
       "      <td>...</td>\n",
       "      <td>28.455001</td>\n",
       "      <td>0.113302</td>\n",
       "      <td>0.014964</td>\n",
       "      <td>48.682137</td>\n",
       "      <td>8.575027</td>\n",
       "      <td>37.310830</td>\n",
       "      <td>0.291005</td>\n",
       "      <td>1.000000</td>\n",
       "      <td>0.991253</td>\n",
       "      <td>0.996344</td>\n",
       "    </tr>\n",
       "    <tr>\n",
       "      <th>2025-08-26 00:00:00</th>\n",
       "      <td>21.417028</td>\n",
       "      <td>20.969658</td>\n",
       "      <td>-0.010164</td>\n",
       "      <td>-0.013785</td>\n",
       "      <td>-0.004440</td>\n",
       "      <td>-0.067826</td>\n",
       "      <td>-0.078572</td>\n",
       "      <td>-0.097359</td>\n",
       "      <td>-0.099281</td>\n",
       "      <td>-0.003658</td>\n",
       "      <td>...</td>\n",
       "      <td>26.640077</td>\n",
       "      <td>0.108928</td>\n",
       "      <td>0.023111</td>\n",
       "      <td>50.050813</td>\n",
       "      <td>7.889149</td>\n",
       "      <td>37.328964</td>\n",
       "      <td>-0.417417</td>\n",
       "      <td>1.004328</td>\n",
       "      <td>0.987143</td>\n",
       "      <td>0.989836</td>\n",
       "    </tr>\n",
       "  </tbody>\n",
       "</table>\n",
       "<p>5 rows × 112 columns</p>\n",
       "</div>"
      ],
      "text/plain": [
       "                     log_dollar_vol  log_dollar_vol_3d  return_1h  return_2h  \\\n",
       "datetime                                                                       \n",
       "2025-08-25 20:00:00       22.259343          20.966946  -0.015762  -0.048947   \n",
       "2025-08-25 21:00:00       21.225306          20.958404  -0.000228  -0.015986   \n",
       "2025-08-25 22:00:00       20.899369          20.954401   0.009705   0.009476   \n",
       "2025-08-25 23:00:00       20.676289          20.957177  -0.003658   0.006012   \n",
       "2025-08-26 00:00:00       21.417028          20.969658  -0.010164  -0.013785   \n",
       "\n",
       "                     return_4h  return_12h  return_24h  return_48h  \\\n",
       "datetime                                                             \n",
       "2025-08-25 20:00:00  -0.053263   -0.054079   -0.091027   -0.084442   \n",
       "2025-08-25 21:00:00  -0.051714   -0.057042   -0.090911   -0.084339   \n",
       "2025-08-25 22:00:00  -0.039935   -0.033550   -0.081398   -0.081665   \n",
       "2025-08-25 23:00:00  -0.010071   -0.048662   -0.084563   -0.084360   \n",
       "2025-08-26 00:00:00  -0.004440   -0.067826   -0.078572   -0.097359   \n",
       "\n",
       "                     return_72h  return_1h_lag1  ...   DOGE_rsi  DOGE_bb_high  \\\n",
       "datetime                                         ...                            \n",
       "2025-08-25 20:00:00   -0.102949       -0.033716  ...  20.062470      0.099557   \n",
       "2025-08-25 21:00:00   -0.103640       -0.015762  ...  21.323549      0.129622   \n",
       "2025-08-25 22:00:00   -0.087231       -0.000228  ...  26.608483      0.125200   \n",
       "2025-08-25 23:00:00   -0.094428        0.009705  ...  28.455001      0.113302   \n",
       "2025-08-26 00:00:00   -0.099281       -0.003658  ...  26.640077      0.108928   \n",
       "\n",
       "                     DOGE_bb_low   DOGE_adx  DOGE_plus_di  DOGE_minus_di  \\\n",
       "datetime                                                                   \n",
       "2025-08-25 20:00:00     0.018746  43.278815      6.766976      42.638902   \n",
       "2025-08-25 21:00:00    -0.004492  45.828694      6.294771      41.899220   \n",
       "2025-08-25 22:00:00     0.003306  47.414647      8.329550      39.078427   \n",
       "2025-08-25 23:00:00     0.014964  48.682137      8.575027      37.310830   \n",
       "2025-08-26 00:00:00     0.023111  50.050813      7.889149      37.328964   \n",
       "\n",
       "                     DOGE_bop  high_norm  low_norm  close_norm  \n",
       "datetime                                                        \n",
       "2025-08-25 20:00:00 -0.855867   1.005755  0.980171    0.984233  \n",
       "2025-08-25 21:00:00  0.119741   1.008307  0.997195    0.999772  \n",
       "2025-08-25 22:00:00  0.542662   1.015333  1.000000    1.009705  \n",
       "2025-08-25 23:00:00  0.291005   1.000000  0.991253    0.996344  \n",
       "2025-08-26 00:00:00 -0.417417   1.004328  0.987143    0.989836  \n",
       "\n",
       "[5 rows x 112 columns]"
      ]
     },
     "execution_count": 16,
     "metadata": {},
     "output_type": "execute_result"
    }
   ],
   "source": [
    "X_clean.tail()"
   ]
  },
  {
   "cell_type": "code",
   "execution_count": null,
   "id": "20c16825",
   "metadata": {},
   "outputs": [],
   "source": [
    "def fit_predict_last(model, X, y, train_length=24*7*4):\n",
    "\n",
    "    X_train = X.iloc[-1 - train_length:-1]\n",
    "    y_train = y[-1 - train_length:-1]\n",
    "    X_pred = X.iloc[-1:]\n",
    "    # y_test = y[-1:]\n",
    "\n",
    "    model.fit(X_train, y_train)\n",
    "    y_pred = model.predict(X_pred)\n",
    "\n",
    "    ts = X_pred.index[-1]\n",
    "\n",
    "    return {\"timestamp\": ts,\n",
    "            \"y_pred\": float(y_pred[-1])}"
   ]
  },
  {
   "cell_type": "code",
   "execution_count": null,
   "id": "ee6f4034",
   "metadata": {},
   "outputs": [],
   "source": [
    "pred_output = fit_predict_last(\n",
    "    model=train_model,\n",
    "    X=X_clean,\n",
    "    y=y_clean,\n",
    "    train_length=24*7*4\n",
    ")\n",
    "\n",
    "print(pred_output)"
   ]
  },
  {
   "cell_type": "code",
   "execution_count": 34,
   "id": "aae92813",
   "metadata": {},
   "outputs": [
    {
     "name": "stdout",
     "output_type": "stream",
     "text": [
      "2025-07-29 00:00:00 2025-08-25 23:00:00\n"
     ]
    }
   ],
   "source": [
    "train_length=24*7*4\n",
    "X_train = X_clean.iloc[-1 - train_length:-1]\n",
    "\n",
    "print(X_train.index.min(), X_train.index.max())"
   ]
  },
  {
   "cell_type": "code",
   "execution_count": 35,
   "id": "044d7078",
   "metadata": {},
   "outputs": [
    {
     "name": "stdout",
     "output_type": "stream",
     "text": [
      "2025-08-26 00:00:00 2025-08-26 00:00:00\n"
     ]
    }
   ],
   "source": [
    "X_pred = X_clean.iloc[-1:]\n",
    "print(X_pred.index.min(), X_pred.index.max())"
   ]
  },
  {
   "cell_type": "code",
   "execution_count": 36,
   "id": "3b4a14c9",
   "metadata": {},
   "outputs": [
    {
     "name": "stdout",
     "output_type": "stream",
     "text": [
      "2025-07-29 00:00:00 2025-08-25 23:00:00\n"
     ]
    }
   ],
   "source": [
    "y_train = y_clean[-1 - train_length:-1]\n",
    "print(y_train.index.min(), y_train.index.max())"
   ]
  },
  {
   "cell_type": "code",
   "execution_count": 31,
   "id": "7eb543bd",
   "metadata": {},
   "outputs": [
    {
     "data": {
      "text/plain": [
       "(Timestamp('2025-07-09 02:00:00'), Timestamp('2025-08-26 00:00:00'))"
      ]
     },
     "execution_count": 31,
     "metadata": {},
     "output_type": "execute_result"
    }
   ],
   "source": [
    "X_clean.index.min(), X_clean.index.max()"
   ]
  },
  {
   "cell_type": "code",
   "execution_count": 37,
   "id": "6a6f3197",
   "metadata": {},
   "outputs": [
    {
     "name": "stdout",
     "output_type": "stream",
     "text": [
      "[-0.00108094]\n"
     ]
    }
   ],
   "source": [
    "train_model.fit(X_train, y_train)\n",
    "y_pred = train_model.predict(X_pred)\n",
    "\n",
    "print(y_pred)"
   ]
  }
 ],
 "metadata": {
  "kernelspec": {
   "display_name": "Python (ml4t)",
   "language": "python",
   "name": "ml4t"
  },
  "language_info": {
   "codemirror_mode": {
    "name": "ipython",
    "version": 3
   },
   "file_extension": ".py",
   "mimetype": "text/x-python",
   "name": "python",
   "nbconvert_exporter": "python",
   "pygments_lexer": "ipython3",
   "version": "3.12.3"
  }
 },
 "nbformat": 4,
 "nbformat_minor": 5
}
